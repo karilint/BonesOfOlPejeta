{
 "cells": [
  {
   "cell_type": "code",
   "execution_count": null,
   "id": "0e841fa4",
   "metadata": {},
   "outputs": [],
   "source": [
    "#!pip install scipy seaborn scikit-learn"
   ]
  },
  {
   "cell_type": "code",
   "execution_count": null,
   "id": "9e2f57a2",
   "metadata": {},
   "outputs": [],
   "source": [
    "# Goal: Indicator species analysis with effort- and detection-corrected densities\n",
    "# Each step below is commented to describe the workflow clearly."
   ]
  },
  {
   "cell_type": "code",
   "execution_count": null,
   "id": "75e5dd00",
   "metadata": {},
   "outputs": [],
   "source": [
    "# Step 1: Load data\n",
    "import pandas as pd\n",
    "import numpy as np\n",
    "import seaborn as sns\n",
    "import matplotlib.pyplot as plt\n",
    "\n",
    "# Load the pickled data generated in previous notebooks\n",
    "# df_transects contains one row per transect with metadata such as habitat and length\n",
    "# df_occurrences_with_taxon contains one row per bone occurrence with taxon and transect ID\n",
    "\n",
    "df_transects = pd.read_pickle(\"../data/pkl/df_transects.pkl\")\n",
    "df_occurrences = pd.read_pickle(\"../data/pkl/df_occurrences_with_taxon.pkl\")\n",
    "\n",
    "# Attach habitat and transect-length info to occurrences\n",
    "df_occurrences = df_occurrences.merge(\n",
    "    df_transects[[\"TransectID\", \"Habitat\", \"distance_km\"]],\n",
    "    on=\"TransectID\",\n",
    "    how=\"left\"\n",
    ")"
   ]
  },
  {
   "cell_type": "code",
   "execution_count": null,
   "id": "bc19c4c8",
   "metadata": {},
   "outputs": [],
   "source": [
    "# Step 2: Define survey width and effective strip width (ESW)\n",
    "# Observers walked side by side covering a 50 m strip, so recorded distances\n",
    "# are not suitable for fitting a detection function. We assume perfect detection\n",
    "# within this strip, yielding an ESW equal to half the strip width.\n",
    "\n",
    "TRANSECT_WIDTH_M = 50  # total search width in meters\n",
    "ESW_m = TRANSECT_WIDTH_M / 2\n",
    "print(f\"Assumed ESW (m): {ESW_m}\")"
    ]
  },
  {
   "cell_type": "code",
   "execution_count": null,
   "id": "dac7ef80",
   "metadata": {},
   "outputs": [],
   "source": [
    "# Step 3: Compute effort-corrected densities\n",
    "# Use transect-specific lengths and the fixed strip width to derive searched area.\n",
    "# Density for a taxon on a transect is Count / searched area.\n",
    "\n",
    "df_transects[\"TransectLength_m\"] = df_transects[\"distance_km\"] * 1000\n",
    "df_transects[\"SearchedArea_m2\"] = df_transects[\"TransectLength_m\"] * TRANSECT_WIDTH_M\n",
    "\n",
    "# Count occurrences per transect, habitat and taxon\n",
    "transect_taxon_counts = (\n",
    "    df_occurrences.groupby([\"TransectID\", \"Habitat\", \"Taxon\"]).size().reset_index(name=\"Count\")\n",
    ")\n",
    "\n",
    "# Merge with searched area and compute density\n",
    "transect_taxon_counts = transect_taxon_counts.merge(\n",
    "    df_transects[[\"TransectID\", \"SearchedArea_m2\"]],\n",
    "    on=\"TransectID\",\n",
    "    how=\"left\"\n",
    ")\n",
    "transect_taxon_counts[\"Density_per_m2\"] = (\n",
    "    transect_taxon_counts[\"Count\"] / transect_taxon_counts[\"SearchedArea_m2\"]\n",
    ")\n",
    "\n",
    "transect_taxon_counts.head()"
    ]
  },
  {
   "cell_type": "code",
   "execution_count": null,
   "id": "990a1e20",
   "metadata": {},
   "outputs": [],
   "source": [
    "# Step 4: Create habitat × taxon density matrix\n",
    "# We aggregate densities by habitat to get average detection-corrected density per taxon.\n",
    "\n",
    "df_density_matrix = (\n",
    "    transect_taxon_counts.groupby([\"Habitat\", \"Taxon\"]).agg(\n",
    "        Density_per_m2=(\"Density_per_m2\", \"mean\")\n",
    "    ).reset_index()\n",
    ")\n",
    "\n",
    "# Pivot to matrix form: rows = habitats, columns = taxa, values = density\n",
    "\n",
    "df_matrix = df_density_matrix.pivot(\n",
    "    index=\"Habitat\", columns=\"Taxon\", values=\"Density_per_m2\"\n",
    ").fillna(0)\n",
    "\n",
    "df_matrix.head()"
   ]
  },
  {
   "cell_type": "code",
   "execution_count": null,
   "id": "efac6ae4",
   "metadata": {},
   "outputs": [],
   "source": [
    "# Step 5: Indicator Species Analysis on detection-corrected densities\n",
    "# We reuse the IndVal approach, but now apply it to density values.\n",
    "\n",
    "# Convert to presence/absence if required by the analysis\n",
    "# Here we keep densities, but you could binarize by replacing >0 with 1.\n",
    "\n",
    "def compute_indval(df, groups):\n",
    "    group_names = sorted(set(groups))\n",
    "    results = []\n",
    "    for species in df.columns:\n",
    "        species_data = df[species]\n",
    "        indvals = []\n",
    "        for g in group_names:\n",
    "            group_mask = np.array(groups) == g\n",
    "            A = species_data[group_mask].mean()\n",
    "            B = (species_data[group_mask] > 0).mean()\n",
    "            indvals.append(A * B)\n",
    "        max_indval = max(indvals)\n",
    "        best_group = group_names[indvals.index(max_indval)]\n",
    "        results.append({\"Species\": species, \"Habitat\": best_group, \"IndVal\": max_indval})\n",
    "    return pd.DataFrame(results)\n",
    "\n",
    "# Group labels correspond to the habitat names\n",
    "habitats = df_matrix.index.to_list()\n",
    "\n",
    "df_indicators = compute_indval(df_matrix, habitats)\n",
    "\n",
    "# Sort and inspect the top indicator species\n",
    "\n",
    "df_indicators.sort_values(\"IndVal\", ascending=False).head(10)"
   ]
  }
 ],
 "metadata": {
  "kernelspec": {
   "display_name": "Python 3",
   "language": "python",
   "name": "python3"
  },
  "language_info": {
   "name": "python",
   "version": "3.12"
  }
 },
 "nbformat": 4,
 "nbformat_minor": 5
}
