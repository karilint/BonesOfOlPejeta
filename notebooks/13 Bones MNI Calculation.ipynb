{
 "cells": [
  {
   "cell_type": "markdown",
   "id": "56a79723",
   "metadata": {},
   "source": [
    "# MNI Calculation\n",
    "\n",
    "This notebook prepares data for MNI calculation and writes the results to the `source_data.xlsx` file."
   ]
  },
  {
   "cell_type": "code",
   "execution_count": null,
   "id": "3b194084",
   "metadata": {},
   "outputs": [],
   "source": [
    "import pandas as pd\n",
    "import sys\n",
    "sys.path.append('..')\n",
    "from scripts.mni import calculate_mni\n",
    "\n",
    "df_occurrences = pd.read_pickle(\"../data/pkl/df_occurrences.pkl\")\n",
    "df_briana_with_responses = pd.read_pickle(\"../data/pkl/df_briana_with_responses.pkl\")\n",
    "\n",
    "columns = [\n",
    "    \"TransectUID\",\n",
    "    \"Taxon Label\",\n",
    "    \"Pre: Age\",\n",
    "    \"Pre: Sex\",\n",
    "    \"What element is this?\",\n",
    "    \"Side\",\n",
    "]\n",
    "\n",
    "df = pd.concat(\n",
    "    [\n",
    "        df_occurrences.reindex(columns=columns),\n",
    "        df_briana_with_responses.reindex(columns=columns),\n",
    "    ],\n",
    "    ignore_index=True,\n",
    ")\n"
   ]
  },
  {
   "cell_type": "code",
   "execution_count": null,
   "id": "2ccbe37a",
   "metadata": {},
   "outputs": [],
   "source": [
    "pivot_df = (\n",
    "    df.pivot_table(\n",
    "        index=[\"TransectUID\", \"Taxon Label\", \"Pre: Age\", \"Pre: Sex\", \"What element is this?\"],\n",
    "        columns=\"Side\",\n",
    "        aggfunc=\"size\",\n",
    "        fill_value=0,\n",
    "    )\n",
    "    .rename_axis(columns=None)\n",
    "    .reset_index()\n",
    ")\n",
    "pivot_df.head()"
   ]
  },
  {
   "cell_type": "code",
   "execution_count": null,
   "id": "ecc9d0dd",
   "metadata": {},
   "outputs": [],
   "source": [
    "mni_per_transect = calculate_mni(pivot_df)\n",
    "mni_per_transect"
   ]
  },
  {
   "cell_type": "code",
   "execution_count": null,
   "id": "c9569c15",
   "metadata": {},
   "outputs": [],
   "source": [
    "from pathlib import Path\n",
    "from openpyxl import load_workbook\n",
    "\n",
    "output_path = Path(\"../data/export/excel/source_data.xlsx\")\n",
    "if output_path.exists():\n",
    "    transect_sheet = pd.read_excel(output_path, sheet_name=\"Transects\")\n",
    "else:\n",
    "    transect_sheet = pd.DataFrame()\n",
    "\n",
    "transect_sheet = transect_sheet.merge(mni_per_transect, on=\"TransectUID\", how=\"left\")\n",
    "transect_sheet = transect_sheet.rename(columns={\"MNI\": \"MNI_calc\"})\n",
    "\n",
    "output_path.parent.mkdir(parents=True, exist_ok=True)\n",
    "if output_path.exists():\n",
    "    book = load_workbook(output_path)\n",
    "    with pd.ExcelWriter(output_path, engine=\"openpyxl\", mode=\"a\", if_sheet_exists=\"replace\") as writer:\n",
    "        writer.book = book\n",
    "        transect_sheet.to_excel(writer, sheet_name=\"Transects\", index=False)\n",
    "else:\n",
    "    with pd.ExcelWriter(output_path, engine=\"openpyxl\") as writer:\n",
    "        transect_sheet.to_excel(writer, sheet_name=\"Transects\", index=False)"
   ]
  }
 ],
 "metadata": {},
 "nbformat": 4,
 "nbformat_minor": 5
}