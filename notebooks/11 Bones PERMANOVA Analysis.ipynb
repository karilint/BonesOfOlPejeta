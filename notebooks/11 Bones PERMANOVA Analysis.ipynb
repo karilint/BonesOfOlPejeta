{
 "cells": [
  {
   "cell_type": "code",
   "execution_count": 1,
   "id": "7fb2e33e-5c27-4d4e-9607-a318b1c215e4",
   "metadata": {},
   "outputs": [
    {
     "ename": "SyntaxError",
     "evalue": "invalid character '•' (U+2022) (3883255795.py, line 2)",
     "output_type": "error",
     "traceback": [
      "\u001b[0;36m  Cell \u001b[0;32mIn[1], line 2\u001b[0;36m\u001b[0m\n\u001b[0;31m    •\tPERMANOVA analysis notebook that filters transects to the old reserve, excludes designated taxa, and builds a species-by-transect matrix for habitat comparisons\u001b[0m\n\u001b[0m    ^\u001b[0m\n\u001b[0;31mSyntaxError\u001b[0m\u001b[0;31m:\u001b[0m invalid character '•' (U+2022)\n"
     ]
    }
   ],
   "source": [
    "Summary\n",
    "•\tPERMANOVA analysis notebook that filters transects to the old reserve, excludes designated taxa, and builds a species-by-transect matrix for habitat comparisons\n",
    "•\tImplemented a log₂(x + 1) + 1 abundance transformation to retain zeros and stabilise variance before analysis\n",
    "•\tIntroduced PERMANOVA using Bray–Curtis distances with 999 permutations to test species composition differences across habitats\n",
    "•\timplement a pure-Python PERMANOVA to avoid scikit-bio dependency"
   ]
  },
  {
   "cell_type": "code",
   "execution_count": 2,
   "id": "9dcad510",
   "metadata": {},
   "outputs": [],
   "source": [
    "import pandas as pd\n",
    "import numpy as np\n",
    "from scipy.spatial.distance import pdist, squareform\n",
    "\n",
    "def bray_curtis_dm(data):\n",
    "    return squareform(pdist(data, metric='braycurtis'))\n",
    "\n",
    "def permanova(distance_matrix, grouping, permutations=999, random_state=None):\n",
    "    distance_matrix = np.asarray(distance_matrix)\n",
    "    n = distance_matrix.shape[0]\n",
    "    groups, group_indices = np.unique(grouping, return_inverse=True)\n",
    "    dist_sq = distance_matrix**2\n",
    "    tss = dist_sq.sum() / n\n",
    "    wss = 0.0\n",
    "    for g in range(len(groups)):\n",
    "        idxs = np.where(group_indices == g)[0]\n",
    "        if len(idxs) > 1:\n",
    "            wss += dist_sq[np.ix_(idxs, idxs)].sum() / len(idxs)\n",
    "    bss = tss - wss\n",
    "    df_between = len(groups) - 1\n",
    "    df_within = n - len(groups)\n",
    "    ms_between = bss / df_between\n",
    "    ms_within = wss / df_within\n",
    "    f_stat = ms_between / ms_within\n",
    "    rng = np.random.default_rng(random_state)\n",
    "    perm_ge = 0\n",
    "    for _ in range(permutations):\n",
    "        perm = rng.permutation(group_indices)\n",
    "        wss_perm = 0.0\n",
    "        for g in range(len(groups)):\n",
    "            idxs = np.where(perm == g)[0]\n",
    "            if len(idxs) > 1:\n",
    "                wss_perm += dist_sq[np.ix_(idxs, idxs)].sum() / len(idxs)\n",
    "        bss_perm = tss - wss_perm\n",
    "        ms_between_perm = bss_perm / df_between\n",
    "        ms_within_perm = wss_perm / df_within\n",
    "        f_perm = ms_between_perm / ms_within_perm\n",
    "        if f_perm >= f_stat:\n",
    "            perm_ge += 1\n",
    "    p_val = (perm_ge + 1) / (permutations + 1)\n",
    "    return {\n",
    "        'test_statistic': f_stat,\n",
    "        'p_value': p_val,\n",
    "        'df_between': df_between,\n",
    "        'df_within': df_within,\n",
    "        'permutations': permutations\n",
    "    }\n"
   ]
  },
  {
   "cell_type": "code",
   "execution_count": 3,
   "id": "420a230c",
   "metadata": {},
   "outputs": [],
   "source": [
    "# Load pickled data\n",
    "df_transects = pd.read_pickle('../data/pkl/df_transects.pkl')\n",
    "df_occurrences_with_taxon = pd.read_pickle('../data/pkl/df_occurrences_with_taxon.pkl')\n",
    "\n",
    "# Filter transects and species (Old Reserve only)\n",
    "df_transects['Year'] = pd.to_datetime(df_transects['start_time']).dt.year\n",
    "mask_not_2008 = df_transects['Year'] != 2008\n",
    "mask_keep_2024 = ~((df_transects['Year'] == 2024) & (df_transects['Pre: Transect physical habitat'] != 'shrubs closed'))\n",
    "df_filtered_transects = df_transects[mask_not_2008 & mask_keep_2024].copy()\n",
    "\n",
    "df_old_reserve_transects = df_filtered_transects[df_filtered_transects['Pre: On old reserve?'] == 'Yes'].copy()\n",
    "valid_transect_uids = df_old_reserve_transects['UID']\n",
    "\n",
    "exclude = ['Aves (medium)', 'Aves (small)', '']\n",
    "df_occ_old_reserve = df_occurrences_with_taxon[\n",
    "    df_occurrences_with_taxon['UID'].isin(valid_transect_uids) &\n",
    "    ~df_occurrences_with_taxon['Taxon Label'].isin(exclude)\n",
    "].copy()\n"
   ]
  },
  {
   "cell_type": "code",
   "execution_count": 4,
   "id": "86d64d73",
   "metadata": {},
   "outputs": [],
   "source": [
    "# Build species-by-transect matrix\n",
    "df_matrix = df_occ_old_reserve.pivot_table(\n",
    "    index='UID',\n",
    "    columns='Taxon Label',\n",
    "    values='ID',\n",
    "    aggfunc='count',\n",
    "    fill_value=0\n",
    ")\n",
    "\n",
    "# Add habitat information\n",
    "habitats = df_old_reserve_transects.set_index('UID')['Pre: Transect physical habitat']\n",
    "habitats = habitats.loc[df_matrix.index]\n"
   ]
  },
  {
   "cell_type": "code",
   "execution_count": 5,
   "id": "70296a0d",
   "metadata": {},
   "outputs": [],
   "source": [
    "# Transform abundances: log2(x + 1) + 1\n",
    "df_log = np.log2(df_matrix + 1) + 1\n"
   ]
  },
  {
   "cell_type": "code",
   "execution_count": 10,
   "id": "4817303d",
   "metadata": {},
   "outputs": [
    {
     "data": {
      "text/html": [
       "<div>\n",
       "<style scoped>\n",
       "    .dataframe tbody tr th:only-of-type {\n",
       "        vertical-align: middle;\n",
       "    }\n",
       "\n",
       "    .dataframe tbody tr th {\n",
       "        vertical-align: top;\n",
       "    }\n",
       "\n",
       "    .dataframe thead th {\n",
       "        text-align: right;\n",
       "    }\n",
       "</style>\n",
       "<table border=\"1\" class=\"dataframe\">\n",
       "  <thead>\n",
       "    <tr style=\"text-align: right;\">\n",
       "      <th></th>\n",
       "      <th>test_statistic</th>\n",
       "      <th>p_value</th>\n",
       "      <th>df_between</th>\n",
       "      <th>df_within</th>\n",
       "      <th>permutations</th>\n",
       "    </tr>\n",
       "  </thead>\n",
       "  <tbody>\n",
       "    <tr>\n",
       "      <th>0</th>\n",
       "      <td>5.321</td>\n",
       "      <td>0.001</td>\n",
       "      <td>3</td>\n",
       "      <td>60</td>\n",
       "      <td>999</td>\n",
       "    </tr>\n",
       "  </tbody>\n",
       "</table>\n",
       "</div>"
      ],
      "text/plain": [
       "   test_statistic  p_value  df_between  df_within  permutations\n",
       "0           5.321    0.001           3         60           999"
      ]
     },
     "execution_count": 10,
     "metadata": {},
     "output_type": "execute_result"
    }
   ],
   "source": [
    "# Run PERMANOVA (npMANOVA)\n",
    "dm = bray_curtis_dm(df_log.values)\n",
    "permanova_results = permanova(dm, grouping=habitats.values, permutations=999)\n",
    "permanova_results\n",
    "\n",
    "# Convert to a single-row dataframe\n",
    "permanova_df = pd.DataFrame([permanova_results])\n",
    "permanova_df = permanova_df.round(3)\n",
    "permanova_df\n"
   ]
  },
  {
   "cell_type": "code",
   "execution_count": null,
   "id": "d564bdbe-27c7-476f-8b15-08a2fd51525d",
   "metadata": {},
   "outputs": [],
   "source": []
  }
 ],
 "metadata": {
  "kernelspec": {
   "display_name": "Python 3 (ipykernel)",
   "language": "python",
   "name": "python3"
  },
  "language_info": {
   "codemirror_mode": {
    "name": "ipython",
    "version": 3
   },
   "file_extension": ".py",
   "mimetype": "text/x-python",
   "name": "python",
   "nbconvert_exporter": "python",
   "pygments_lexer": "ipython3",
   "version": "3.11.6"
  }
 },
 "nbformat": 4,
 "nbformat_minor": 5
}
