{
  "cells": [
    {
      "cell_type": "code",
      "execution_count": null,
      "metadata": {},
      "outputs": [],
      "source": [
        "# No external installations required\n"
      ]
    },
    {
      "cell_type": "code",
      "execution_count": null,
      "metadata": {},
      "outputs": [],
      "source": [
        "import pandas as pd\n",
        "import numpy as np\n",
        "from scipy.spatial.distance import pdist, squareform\n",
        "\n",
        "def bray_curtis_dm(data):\n",
        "    return squareform(pdist(data, metric='braycurtis'))\n",
        "\n",
        "def permanova(distance_matrix, grouping, permutations=999, random_state=None):\n",
        "    distance_matrix = np.asarray(distance_matrix)\n",
        "    n = distance_matrix.shape[0]\n",
        "    groups, group_indices = np.unique(grouping, return_inverse=True)\n",
        "    dist_sq = distance_matrix**2\n",
        "    tss = dist_sq.sum() / n\n",
        "    wss = 0.0\n",
        "    for g in range(len(groups)):\n",
        "        idxs = np.where(group_indices == g)[0]\n",
        "        if len(idxs) > 1:\n",
        "            wss += dist_sq[np.ix_(idxs, idxs)].sum() / len(idxs)\n",
        "    bss = tss - wss\n",
        "    df_between = len(groups) - 1\n",
        "    df_within = n - len(groups)\n",
        "    ms_between = bss / df_between\n",
        "    ms_within = wss / df_within\n",
        "    f_stat = ms_between / ms_within\n",
        "    rng = np.random.default_rng(random_state)\n",
        "    perm_ge = 0\n",
        "    for _ in range(permutations):\n",
        "        perm = rng.permutation(group_indices)\n",
        "        wss_perm = 0.0\n",
        "        for g in range(len(groups)):\n",
        "            idxs = np.where(perm == g)[0]\n",
        "            if len(idxs) > 1:\n",
        "                wss_perm += dist_sq[np.ix_(idxs, idxs)].sum() / len(idxs)\n",
        "        bss_perm = tss - wss_perm\n",
        "        ms_between_perm = bss_perm / df_between\n",
        "        ms_within_perm = wss_perm / df_within\n",
        "        f_perm = ms_between_perm / ms_within_perm\n",
        "        if f_perm >= f_stat:\n",
        "            perm_ge += 1\n",
        "    p_val = (perm_ge + 1) / (permutations + 1)\n",
        "    return {\n",
        "        'test_statistic': f_stat,\n",
        "        'p_value': p_val,\n",
        "        'df_between': df_between,\n",
        "        'df_within': df_within,\n",
        "        'permutations': permutations\n",
        "    }\n"
      ]
    },
    {
      "cell_type": "code",
      "execution_count": null,
      "metadata": {},
      "outputs": [],
      "source": [
        "# Load pickled data\n",
        "df_transects = pd.read_pickle('../data/pkl/df_transects.pkl')\n",
        "df_occurrences_with_taxon = pd.read_pickle('../data/pkl/df_occurrences_with_taxon.pkl')\n",
        "\n",
        "# Filter transects and species (Old Reserve only)\n",
        "df_transects['Year'] = pd.to_datetime(df_transects['start_time']).dt.year\n",
        "mask_not_2008 = df_transects['Year'] != 2008\n",
        "mask_keep_2024 = ~((df_transects['Year'] == 2024) & (df_transects['Pre: Transect physical habitat'] != 'shrubs closed'))\n",
        "df_filtered_transects = df_transects[mask_not_2008 & mask_keep_2024].copy()\n",
        "\n",
        "df_old_reserve_transects = df_filtered_transects[df_filtered_transects['Pre: On old reserve?'] == 'Yes'].copy()\n",
        "valid_transect_uids = df_old_reserve_transects['UID']\n",
        "\n",
        "exclude = ['Aves (medium)', 'Aves (small)', '']\n",
        "df_occ_old_reserve = df_occurrences_with_taxon[\n",
        "    df_occurrences_with_taxon['UID'].isin(valid_transect_uids) &\n",
        "    ~df_occurrences_with_taxon['Taxon Label'].isin(exclude)\n",
        "].copy()\n"
      ]
    },
    {
      "cell_type": "code",
      "execution_count": null,
      "metadata": {},
      "outputs": [],
      "source": [
        "# Build species-by-transect matrix\n",
        "df_matrix = df_occ_old_reserve.pivot_table(\n",
        "    index='UID',\n",
        "    columns='Taxon Label',\n",
        "    values='ID',\n",
        "    aggfunc='count',\n",
        "    fill_value=0\n",
        ")\n",
        "\n",
        "# Add habitat information\n",
        "habitats = df_old_reserve_transects.set_index('UID')['Pre: Transect physical habitat']\n",
        "habitats = habitats.loc[df_matrix.index]\n"
      ]
    },
    {
      "cell_type": "code",
      "execution_count": null,
      "metadata": {},
      "outputs": [],
      "source": [
        "# Transform abundances: log2(x + 1) + 1\n",
        "df_log = np.log2(df_matrix + 1) + 1\n"
      ]
    },
    {
      "cell_type": "code",
      "execution_count": null,
      "metadata": {},
      "outputs": [],
      "source": [
        "# Run PERMANOVA (npMANOVA)\n",
        "dm = bray_curtis_dm(df_log.values)\n",
        "permanova_results = permanova(dm, grouping=habitats.values, permutations=999)\n",
        "permanova_results\n"
      ]
    }
  ],
  "metadata": {
    "kernelspec": {
      "display_name": "Python 3",
      "language": "python",
      "name": "python3"
    },
    "language_info": {
      "codemirror_mode": {
        "name": "ipython",
        "version": 3
      },
      "file_extension": ".py",
      "mimetype": "text/x-python",
      "name": "python",
      "nbconvert_exporter": "python",
      "pygments_lexer": "ipython3",
      "version": "3.11"
    }
  },
  "nbformat": 4,
  "nbformat_minor": 5
}