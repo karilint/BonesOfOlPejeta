{
 "cells": [
  {
   "cell_type": "code",
   "execution_count": null,
   "metadata": {},
   "outputs": [],
   "source": [
    "#!pip install scikit-bio scikit-learn\n"
   ]
  },
  {
   "cell_type": "code",
   "execution_count": null,
   "metadata": {},
   "outputs": [],
   "source": [
    "import pandas as pd\n",
    "import numpy as np\n",
    "from skbio.diversity import beta_diversity\n",
    "from skbio.stats.distance import permanova\n",
    "\n",
    "# Load pickled data\n",
    "df_transects = pd.read_pickle('../data/pkl/df_transects.pkl')\n",
    "df_occurrences_with_taxon = pd.read_pickle('../data/pkl/df_occurrences_with_taxon.pkl')\n"
   ]
  },
  {
   "cell_type": "code",
   "execution_count": null,
   "metadata": {},
   "outputs": [],
   "source": [
    "# Filter transects and species (Old Reserve only)\n",
    "df_transects['Year'] = pd.to_datetime(df_transects['start_time']).dt.year\n",
    "mask_not_2008 = df_transects['Year'] != 2008\n",
    "mask_keep_2024 = ~((df_transects['Year'] == 2024) & (df_transects['Pre: Transect physical habitat'] != 'shrubs closed'))\n",
    "df_filtered_transects = df_transects[mask_not_2008 & mask_keep_2024].copy()\n",
    "\n",
    "df_old_reserve_transects = df_filtered_transects[df_filtered_transects['Pre: On old reserve?'] == 'Yes'].copy()\n",
    "valid_transect_uids = df_old_reserve_transects['UID']\n",
    "\n",
    "exclude = ['Aves (medium)', 'Aves (small)', '']\n",
    "df_occ_old_reserve = df_occurrences_with_taxon[\n",
    "    df_occurrences_with_taxon['UID'].isin(valid_transect_uids) &\n",
    "    ~df_occurrences_with_taxon['Taxon Label'].isin(exclude)\n",
    "].copy()\n"
   ]
  },
  {
   "cell_type": "code",
   "execution_count": null,
   "metadata": {},
   "outputs": [],
   "source": [
    "# Build species-by-transect matrix\n",
    "df_matrix = df_occ_old_reserve.pivot_table(\n",
    "    index='UID',\n",
    "    columns='Taxon Label',\n",
    "    values='ID',\n",
    "    aggfunc='count',\n",
    "    fill_value=0\n",
    ")\n",
    "\n",
    "# Add habitat information\n",
    "habitats = df_old_reserve_transects.set_index('UID')['Pre: Transect physical habitat']\n",
    "habitats = habitats.loc[df_matrix.index]\n"
   ]
  },
  {
   "cell_type": "code",
   "execution_count": null,
   "metadata": {},
   "outputs": [],
   "source": [
    "# Transform abundances: log2(x + 1) + 1\n",
    "df_log = np.log2(df_matrix + 1) + 1\n"
   ]
  },
  {
   "cell_type": "code",
   "execution_count": null,
   "metadata": {},
   "outputs": [],
   "source": [
    "# Run PERMANOVA (npMANOVA)\n",
    "dm = beta_diversity('braycurtis', df_log.values, ids=df_log.index)\n",
    "permanova_results = permanova(dm, grouping=habitats, permutations=999)\n",
    "permanova_results\n"
   ]
  }
 ],
 "metadata": {
  "kernelspec": {
   "display_name": "Python 3",
   "language": "python",
   "name": "python3"
  },
  "language_info": {
   "codemirror_mode": {
    "name": "ipython",
    "version": 3
   },
   "file_extension": ".py",
   "mimetype": "text/x-python",
   "name": "python",
   "nbconvert_exporter": "python",
   "pygments_lexer": "ipython3",
   "version": "3.11"
  }
 },
 "nbformat": 4,
 "nbformat_minor": 5
}
