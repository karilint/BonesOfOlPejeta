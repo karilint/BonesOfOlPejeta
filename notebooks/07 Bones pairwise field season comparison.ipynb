{
 "cells": [
  {
   "cell_type": "markdown",
   "id": "f93d29cb",
   "metadata": {},
   "source": [
    "# Pairwise Field Season Comparison\n",
    "This notebook compares consecutive field seasons using Welch's t-test."
   ]
  },
  {
   "cell_type": "code",
   "execution_count": null,
   "id": "3cafc5a9",
   "metadata": {},
   "outputs": [],
   "source": [
    "from dataclasses import dataclass\n",
    "from typing import List\n",
    "\n",
    "import pandas as pd\n",
    "from scipy.stats import ttest_ind\n",
    "\n",
    "@dataclass\n",
    "class SeasonComparison:\n",
    "    \"\"\"Container for the comparison between two field seasons.\"\"\"\n",
    "    season_a: int\n",
    "    season_b: int\n",
    "    mean_a: float\n",
    "    mean_b: float\n",
    "    t_stat: float\n",
    "    p_value: float\n",
    "    significant: bool\n",
    "\n",
    "def compare_consecutive_seasons(\n",
    "    df: pd.DataFrame,\n",
    "    *,\n",
    "    season_col: str = \"Year\",\n",
    "    value_col: str = \"Pre: Distance spotted\",\n",
    "    alpha: float = 0.05,\n",
    ") -> pd.DataFrame:\n",
    "    \"\"\"Perform pairwise comparisons between consecutive field seasons.\"\"\"\n",
    "    field_seasons: List[int] = sorted(df[season_col].dropna().unique())\n",
    "    results: List[SeasonComparison] = []\n",
    "    for i in range(1, len(field_seasons)):\n",
    "        season_a = field_seasons[i - 1]\n",
    "        season_b = field_seasons[i]\n",
    "        group_a = df[df[season_col] == season_a][value_col].dropna()\n",
    "        group_b = df[df[season_col] == season_b][value_col].dropna()\n",
    "        if len(group_a) > 0 and len(group_b) > 0:\n",
    "            stat, p = ttest_ind(group_b, group_a, equal_var=False)\n",
    "            results.append(SeasonComparison(season_a, season_b, group_a.mean(), group_b.mean(), stat, p, p < alpha))\n",
    "        else:\n",
    "            print(f\"Skipping comparison {season_a} vs {season_b} due to missing data\")\n",
    "    comparison_df = pd.DataFrame([\n",
    "        {\n",
    "            \"Field Season A\": r.season_a,\n",
    "            \"Field Season B\": r.season_b,\n",
    "            \"Mean A\": r.mean_a,\n",
    "            \"Mean B\": r.mean_b,\n",
    "            \"T-stat\": r.t_stat,\n",
    "            \"p-value\": r.p_value,\n",
    "            \"Significant (p<0.05)\": r.significant,\n",
    "        }\n",
    "        for r in results\n",
    "    ])\n",
    "    return comparison_df.round(4)\n"
   ]
  },
  {
   "cell_type": "code",
   "execution_count": null,
   "id": "164a7043",
   "metadata": {},
   "outputs": [],
   "source": [
    "# Example usage with a DataFrame `df_cleaned`\n",
    "# comparison_df = compare_consecutive_seasons(df_cleaned)\n",
    "# comparison_df\n"
   ]
  }
 ],
 "metadata": {
  "kernelspec": {
   "display_name": "Python 3",
   "language": "python",
   "name": "python3"
  },
  "language_info": {
   "name": "python",
   "version": "3.x"
  }
 },
 "nbformat": 4,
 "nbformat_minor": 5
}