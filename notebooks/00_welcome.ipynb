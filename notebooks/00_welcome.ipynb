{
 "cells": [
  {
   "cell_type": "markdown",
   "id": "f71251d1",
   "metadata": {},
   "source": [
    "# Welcome to the project\n",
    "\n",
    "This workspace has SQL Server (FreeTDS/ODBC) and MariaDB client tools installed.\n"
   ]
  },
  {
   "cell_type": "code",
   "execution_count": 2,
   "id": "ef215fa4",
   "metadata": {},
   "outputs": [
    {
     "name": "stdout",
     "output_type": "stream",
     "text": [
      "Python: 3.11.6 | packaged by conda-forge | (main, Oct  3 2023, 10:40:35) [GCC 12.3.0]\n",
      "Platform: Linux-6.6.87.2-microsoft-standard-WSL2-x86_64-with-glibc2.35\n",
      "NumPy: 2.3.2\n",
      "Pandas: 2.3.1\n"
     ]
    }
   ],
   "source": [
    "# Sanity check\n",
    "import sys, platform\n",
    "import numpy as np, pandas as pd\n",
    "print('Python:', sys.version)\n",
    "print('Platform:', platform.platform())\n",
    "print('NumPy:', np.__version__)\n",
    "print('Pandas:', pd.__version__)"
   ]
  }
 ],
 "metadata": {
  "kernelspec": {
   "display_name": "Python 3 (ipykernel)",
   "language": "python",
   "name": "python3"
  },
  "language_info": {
   "codemirror_mode": {
    "name": "ipython",
    "version": 3
   },
   "file_extension": ".py",
   "mimetype": "text/x-python",
   "name": "python",
   "nbconvert_exporter": "python",
   "pygments_lexer": "ipython3",
   "version": "3.11.6"
  }
 },
 "nbformat": 4,
 "nbformat_minor": 5
}
