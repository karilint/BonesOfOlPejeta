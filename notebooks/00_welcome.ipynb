{
 "cells": [
  {
   "cell_type": "markdown",
   "metadata": {},
   "source": [
    "# Welcome to the project",
    "This workspace has SQL Server (FreeTDS/ODBC) and MariaDB client tools installed."
   ]
  },
  {
   "cell_type": "code",
   "execution_count": null,
   "metadata": {},
   "outputs": [],
   "source": [
    "# Sanity check",
    "import sys, platform",
    "import numpy as np, pandas as pd",
    "print('Python:', sys.version)",
    "print('Platform:', platform.platform())",
    "print('NumPy:', np.__version__)", 
    "print('Pandas:', pd.__version__)"
   ]
  }
 ],
 "metadata": {
  "kernelspec": {
   "display_name": "Python 3",
   "language": "python",
   "name": "python3"
  },
  "language_info": {
   "name": "python"
  }
 },
 "nbformat": 4,
 "nbformat_minor": 5
}