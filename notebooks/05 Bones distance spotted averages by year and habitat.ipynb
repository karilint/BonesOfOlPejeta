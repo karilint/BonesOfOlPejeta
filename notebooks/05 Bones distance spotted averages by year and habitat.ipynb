{
 "cells": [
  {
   "cell_type": "markdown",
   "id": "d3a4f9f5",
   "metadata": {},
   "source": [
    "# Distance spotted averages by year and habitat"
   ]
  },
  {
   "cell_type": "code",
   "execution_count": null,
   "id": "019d151c",
   "metadata": {},
   "outputs": [],
   "source": [
    "import pandas as pd\n",
    "\n",
    "# Load data\n",
    "df_transects = pd.read_pickle('../data/pkl/df_transects.pkl')\n",
    "df_occurrences = pd.read_pickle('../data/pkl/df_occurrences.pkl')\n",
    "\n",
    "# Merge occurrences with transect info\n",
    "df = df_occurrences.merge(\n",
    "    df_transects[['UID', 'Pre: Transect physical habitat', 'Pre: On old reserve?', 'start_time']],\n",
    "    how='left',\n",
    "    left_on='TransectUID',\n",
    "    right_on='UID'\n",
    ")\n",
    "\n",
    "# Filter to old reserve transects\n",
    "df_old = df[df['Pre: On old reserve?'] == 'Yes'].copy()\n",
    "\n",
    "# Extract year from start_time\n",
    "df_old['Year'] = pd.to_datetime(df_old['start_time']).dt.year\n",
    "\n",
    "# Compute summary statistics\n",
    "summary = (\n",
    "    df_old\n",
    "    .groupby(['Pre: Transect physical habitat', 'Year'])['Pre: Distance spotted']\n",
    "    .agg(['mean', 'count', 'std'])\n",
    "    .reset_index()\n",
    "    .sort_values(['Pre: Transect physical habitat', 'Year'])\n",
    ")\n",
    "\n",
    "# Rename columns\n",
    "summary = summary.rename(columns={\n",
    "    'mean': 'Mean distance (m)',\n",
    "    'count': 'Count of occurrences',\n",
    "    'std': 'SD'\n",
    "})\n",
    "\n",
    "summary\n"
   ]
  }
 ],
 "metadata": {},
 "nbformat": 4,
 "nbformat_minor": 5
}
