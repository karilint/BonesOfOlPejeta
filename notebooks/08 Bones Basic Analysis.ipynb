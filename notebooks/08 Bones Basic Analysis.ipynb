{
 "cells": [
  {
   "cell_type": "code",
   "execution_count": 42,
   "id": "d6289d97-24af-4633-b377-a48c0f7522d2",
   "metadata": {},
   "outputs": [
    {
     "name": "stdout",
     "output_type": "stream",
     "text": [
      "Collecting seaborn\n",
      "  Downloading seaborn-0.13.2-py3-none-any.whl.metadata (5.4 kB)\n",
      "Requirement already satisfied: numpy!=1.24.0,>=1.20 in /opt/conda/lib/python3.11/site-packages (from seaborn) (2.3.2)\n",
      "Requirement already satisfied: pandas>=1.2 in /opt/conda/lib/python3.11/site-packages (from seaborn) (2.3.1)\n",
      "Requirement already satisfied: matplotlib!=3.6.1,>=3.4 in /opt/conda/lib/python3.11/site-packages (from seaborn) (3.10.5)\n",
      "Requirement already satisfied: contourpy>=1.0.1 in /opt/conda/lib/python3.11/site-packages (from matplotlib!=3.6.1,>=3.4->seaborn) (1.3.3)\n",
      "Requirement already satisfied: cycler>=0.10 in /opt/conda/lib/python3.11/site-packages (from matplotlib!=3.6.1,>=3.4->seaborn) (0.12.1)\n",
      "Requirement already satisfied: fonttools>=4.22.0 in /opt/conda/lib/python3.11/site-packages (from matplotlib!=3.6.1,>=3.4->seaborn) (4.59.0)\n",
      "Requirement already satisfied: kiwisolver>=1.3.1 in /opt/conda/lib/python3.11/site-packages (from matplotlib!=3.6.1,>=3.4->seaborn) (1.4.8)\n",
      "Requirement already satisfied: packaging>=20.0 in /opt/conda/lib/python3.11/site-packages (from matplotlib!=3.6.1,>=3.4->seaborn) (23.2)\n",
      "Requirement already satisfied: pillow>=8 in /opt/conda/lib/python3.11/site-packages (from matplotlib!=3.6.1,>=3.4->seaborn) (11.3.0)\n",
      "Requirement already satisfied: pyparsing>=2.3.1 in /opt/conda/lib/python3.11/site-packages (from matplotlib!=3.6.1,>=3.4->seaborn) (3.2.3)\n",
      "Requirement already satisfied: python-dateutil>=2.7 in /opt/conda/lib/python3.11/site-packages (from matplotlib!=3.6.1,>=3.4->seaborn) (2.8.2)\n",
      "Requirement already satisfied: pytz>=2020.1 in /opt/conda/lib/python3.11/site-packages (from pandas>=1.2->seaborn) (2023.3.post1)\n",
      "Requirement already satisfied: tzdata>=2022.7 in /opt/conda/lib/python3.11/site-packages (from pandas>=1.2->seaborn) (2025.2)\n",
      "Requirement already satisfied: six>=1.5 in /opt/conda/lib/python3.11/site-packages (from python-dateutil>=2.7->matplotlib!=3.6.1,>=3.4->seaborn) (1.16.0)\n",
      "Downloading seaborn-0.13.2-py3-none-any.whl (294 kB)\n",
      "\u001b[2K   \u001b[90m━━━━━━━━━━━━━━━━━━━━━━━━━━━━━━━━━━━━━━━\u001b[0m \u001b[32m294.9/294.9 kB\u001b[0m \u001b[31m428.6 kB/s\u001b[0m eta \u001b[36m0:00:00\u001b[0ma \u001b[36m0:00:01\u001b[0m\n",
      "\u001b[?25hInstalling collected packages: seaborn\n",
      "Successfully installed seaborn-0.13.2\n"
     ]
    }
   ],
   "source": [
    "#!pip install scikit-bio\n",
    "#!pip install scikit-learn\n",
    "#!pip install plotly\n",
    "#!pip install dash\n",
    "#!pip install seaborn\n",
    "# For Correspondence Analysis (CA)\n",
    "#!pip install prince\n",
    "#!pip uninstall -y prince\n",
    "#!pip install prince\n",
    "#!pip install --upgrade typing_extensions\n",
    "#!pip install --force-reinstall typing_extensions==4.5.0\n",
    "\n",
    "# tqdm in Jupyter uses a widget-based progress bar (IProgress), which needs ipywidgets installed and enabled\n",
    "#!pip install ipywidgets\n",
    "#!jupyter nbextension enable --py widgetsnbextension --sys-prefix"
   ]
  },
  {
   "cell_type": "code",
   "execution_count": 7,
   "id": "a18234e3-e951-46a7-809c-ecee6804cd81",
   "metadata": {},
   "outputs": [],
   "source": [
    "# Goal: Create a Taxon × Habitat Abundance Table\n",
    "# Each row = a Taxon\n",
    "# Each column = a Habitat (from 'Pre: Transect physical habitat')\n",
    "# Each cell = # of occurrences of that taxon in that habitat"
   ]
  },
  {
   "cell_type": "code",
   "execution_count": 12,
   "id": "03cfbbb6-4f64-4ec7-a953-f30c5a754ca2",
   "metadata": {},
   "outputs": [],
   "source": [
    "# Step 1: Load Pickle Files\n",
    "import pandas as pd\n",
    "\n",
    "# Load the pickled data\n",
    "df_transects = pd.read_pickle(\"../data/pkl/df_transects.pkl\")\n",
    "df_occurrences_with_taxon = pd.read_pickle(\"../data/pkl/df_occurrences_with_taxon.pkl\")\n",
    "df_taxon_by_habitat = pd.read_pickle(\"../data/pkl/df_taxon_by_habitat.pkl\")\n",
    "df_taxon_by_transect = pd.read_pickle(\"../data/pkl/df_taxon_by_transect.pkl\")\n"
   ]
  },
  {
   "cell_type": "code",
   "execution_count": 14,
   "id": "cebd1a48-c030-4774-83e8-f1c27f2783c7",
   "metadata": {},
   "outputs": [],
   "source": [
    "# Step 2: Filter to Old Reserve Only\n",
    "# Filter occurrences to only those on the old reserve\n",
    "# Filter transects excluding year 2008 and most 2024 transects (keep 2024 'shrubs closed')\n",
    "# Filter transects to only those marked as \"on old reserve\"\n",
    "df_transects['Year'] = pd.to_datetime(df_transects['start_time']).dt.year\n",
    "mask_not_2008 = df_transects['Year'] != 2008\n",
    "mask_keep_2024 = ~((df_transects['Year'] == 2024) & (df_transects['Pre: Transect physical habitat'] != 'shrubs closed'))\n",
    "df_filtered_transects = df_transects[mask_not_2008 & mask_keep_2024].copy()\n",
    "\n",
    "df_old_reserve_transects = df_filtered_transects[df_filtered_transects[\"Pre: On old reserve?\"] == \"Yes\"].copy()\n",
    "valid_transect_uids = df_old_reserve_transects['UID']\n",
    "\n",
    "#df_occ_old_reserve = df_occurrences_with_taxon[\n",
    "#    df_occurrences_with_taxon['Pre: On old reserve?'] == 'Yes'\n",
    "#].copy()\n",
    "\n",
    "df_occ_old_reserve = df_occurrences_with_taxon[\n",
    "    df_occurrences_with_taxon['UID'].isin(valid_transect_uids)\n",
    "].copy()\n",
    "#df_occ_old_reserve.head()"
   ]
  },
  {
   "cell_type": "code",
   "execution_count": 15,
   "id": "017100f8-3d48-42f6-8fd4-08a6662548f6",
   "metadata": {},
   "outputs": [],
   "source": [
    "# Step 3: Build Taxon Abundance Table by Habitat\n",
    "# Pivot table: Taxa x Habitat (Old Reserve only)\n",
    "df_taxon_by_habitat_old_reserve = df_occ_old_reserve.pivot_table(\n",
    "    index='Taxon Label',\n",
    "    columns='Pre: Transect physical habitat',\n",
    "    values='ID',\n",
    "    aggfunc='count',\n",
    "    fill_value=0\n",
    ")\n",
    "\n",
    "# Sort by total abundance across all habitats\n",
    "df_taxon_by_habitat_old_reserve['Total'] = df_taxon_by_habitat_old_reserve.sum(axis=1)\n",
    "df_taxon_by_habitat_old_reserve = df_taxon_by_habitat_old_reserve.sort_values('Total', ascending=False)\n",
    "df_taxon_by_habitat_old_reserve.drop(columns='Total', inplace=True)\n"
   ]
  },
  {
   "cell_type": "code",
   "execution_count": 11,
   "id": "86071e1e-f20e-4f41-bb23-84b959251817",
   "metadata": {},
   "outputs": [
    {
     "data": {
      "text/html": [
       "<div>\n",
       "<style scoped>\n",
       "    .dataframe tbody tr th:only-of-type {\n",
       "        vertical-align: middle;\n",
       "    }\n",
       "\n",
       "    .dataframe tbody tr th {\n",
       "        vertical-align: top;\n",
       "    }\n",
       "\n",
       "    .dataframe thead th {\n",
       "        text-align: right;\n",
       "    }\n",
       "</style>\n",
       "<table border=\"1\" class=\"dataframe\">\n",
       "  <thead>\n",
       "    <tr style=\"text-align: right;\">\n",
       "      <th>Pre: Transect physical habitat</th>\n",
       "      <th>grass closed</th>\n",
       "      <th>shrubs closed</th>\n",
       "      <th>shrubs open</th>\n",
       "      <th>trees closed</th>\n",
       "    </tr>\n",
       "    <tr>\n",
       "      <th>Taxon Label</th>\n",
       "      <th></th>\n",
       "      <th></th>\n",
       "      <th></th>\n",
       "      <th></th>\n",
       "    </tr>\n",
       "  </thead>\n",
       "  <tbody>\n",
       "    <tr>\n",
       "      <th>Mammalia indet</th>\n",
       "      <td>67</td>\n",
       "      <td>39</td>\n",
       "      <td>74</td>\n",
       "      <td>7</td>\n",
       "    </tr>\n",
       "    <tr>\n",
       "      <th>zebra</th>\n",
       "      <td>73</td>\n",
       "      <td>14</td>\n",
       "      <td>52</td>\n",
       "      <td>6</td>\n",
       "    </tr>\n",
       "    <tr>\n",
       "      <th>warthog</th>\n",
       "      <td>18</td>\n",
       "      <td>1</td>\n",
       "      <td>20</td>\n",
       "      <td>1</td>\n",
       "    </tr>\n",
       "    <tr>\n",
       "      <th>Bovidae (medium)</th>\n",
       "      <td>16</td>\n",
       "      <td>4</td>\n",
       "      <td>15</td>\n",
       "      <td>2</td>\n",
       "    </tr>\n",
       "    <tr>\n",
       "      <th>Bovidae (large)</th>\n",
       "      <td>11</td>\n",
       "      <td>11</td>\n",
       "      <td>13</td>\n",
       "      <td>0</td>\n",
       "    </tr>\n",
       "    <tr>\n",
       "      <th>Bovidae (small)</th>\n",
       "      <td>15</td>\n",
       "      <td>7</td>\n",
       "      <td>7</td>\n",
       "      <td>2</td>\n",
       "    </tr>\n",
       "    <tr>\n",
       "      <th>giraffe</th>\n",
       "      <td>11</td>\n",
       "      <td>6</td>\n",
       "      <td>7</td>\n",
       "      <td>0</td>\n",
       "    </tr>\n",
       "    <tr>\n",
       "      <th>Thompson's gazelle</th>\n",
       "      <td>11</td>\n",
       "      <td>0</td>\n",
       "      <td>4</td>\n",
       "      <td>0</td>\n",
       "    </tr>\n",
       "    <tr>\n",
       "      <th>impala</th>\n",
       "      <td>3</td>\n",
       "      <td>1</td>\n",
       "      <td>7</td>\n",
       "      <td>4</td>\n",
       "    </tr>\n",
       "    <tr>\n",
       "      <th>buffalo</th>\n",
       "      <td>2</td>\n",
       "      <td>3</td>\n",
       "      <td>9</td>\n",
       "      <td>0</td>\n",
       "    </tr>\n",
       "  </tbody>\n",
       "</table>\n",
       "</div>"
      ],
      "text/plain": [
       "Pre: Transect physical habitat  grass closed  shrubs closed  shrubs open  \\\n",
       "Taxon Label                                                                \n",
       "Mammalia indet                            67             39           74   \n",
       "zebra                                     73             14           52   \n",
       "warthog                                   18              1           20   \n",
       "Bovidae (medium)                          16              4           15   \n",
       "Bovidae (large)                           11             11           13   \n",
       "Bovidae (small)                           15              7            7   \n",
       "giraffe                                   11              6            7   \n",
       "Thompson's gazelle                        11              0            4   \n",
       "impala                                     3              1            7   \n",
       "buffalo                                    2              3            9   \n",
       "\n",
       "Pre: Transect physical habitat  trees closed  \n",
       "Taxon Label                                   \n",
       "Mammalia indet                             7  \n",
       "zebra                                      6  \n",
       "warthog                                    1  \n",
       "Bovidae (medium)                           2  \n",
       "Bovidae (large)                            0  \n",
       "Bovidae (small)                            2  \n",
       "giraffe                                    0  \n",
       "Thompson's gazelle                         0  \n",
       "impala                                     4  \n",
       "buffalo                                    0  "
      ]
     },
     "metadata": {},
     "output_type": "display_data"
    }
   ],
   "source": [
    "# Step 4: Preview the Table\n",
    "import pandas as pd\n",
    "from IPython.display import display\n",
    "\n",
    "# Display top rows\n",
    "display(df_taxon_by_habitat_old_reserve.head(10))\n"
   ]
  },
  {
   "cell_type": "code",
   "execution_count": 14,
   "id": "9a21a38b-24fb-46c3-866b-3b925c7192a7",
   "metadata": {},
   "outputs": [],
   "source": [
    "# 2. Diversity Metrics by Habitat\n",
    "# Metric\tDescription\n",
    "# Richness\tNumber of unique taxa\n",
    "# Shannon Index\tTakes into account both richness and evenness\n",
    "# Simpson Index\tProbability that two individuals belong to same taxon\n",
    "# Evenness\tHow evenly individuals are distributed among taxa"
   ]
  },
  {
   "cell_type": "code",
   "execution_count": 16,
   "id": "8dc35195-245b-4cb3-9f89-bed4d7f9d042",
   "metadata": {},
   "outputs": [
    {
     "data": {
      "text/html": [
       "<div>\n",
       "<style scoped>\n",
       "    .dataframe tbody tr th:only-of-type {\n",
       "        vertical-align: middle;\n",
       "    }\n",
       "\n",
       "    .dataframe tbody tr th {\n",
       "        vertical-align: top;\n",
       "    }\n",
       "\n",
       "    .dataframe thead th {\n",
       "        text-align: right;\n",
       "    }\n",
       "</style>\n",
       "<table border=\"1\" class=\"dataframe\">\n",
       "  <thead>\n",
       "    <tr style=\"text-align: right;\">\n",
       "      <th></th>\n",
       "      <th>Richness</th>\n",
       "      <th>Shannon Index</th>\n",
       "      <th>Simpson Index</th>\n",
       "      <th>Evenness</th>\n",
       "    </tr>\n",
       "  </thead>\n",
       "  <tbody>\n",
       "    <tr>\n",
       "      <th>grass closed</th>\n",
       "      <td>17.0</td>\n",
       "      <td>2.063</td>\n",
       "      <td>0.187</td>\n",
       "      <td>0.728</td>\n",
       "    </tr>\n",
       "    <tr>\n",
       "      <th>shrubs closed</th>\n",
       "      <td>14.0</td>\n",
       "      <td>1.984</td>\n",
       "      <td>0.214</td>\n",
       "      <td>0.752</td>\n",
       "    </tr>\n",
       "    <tr>\n",
       "      <th>shrubs open</th>\n",
       "      <td>15.0</td>\n",
       "      <td>1.962</td>\n",
       "      <td>0.203</td>\n",
       "      <td>0.725</td>\n",
       "    </tr>\n",
       "    <tr>\n",
       "      <th>trees closed</th>\n",
       "      <td>9.0</td>\n",
       "      <td>1.997</td>\n",
       "      <td>0.158</td>\n",
       "      <td>0.909</td>\n",
       "    </tr>\n",
       "  </tbody>\n",
       "</table>\n",
       "</div>"
      ],
      "text/plain": [
       "               Richness  Shannon Index  Simpson Index  Evenness\n",
       "grass closed       17.0          2.063          0.187     0.728\n",
       "shrubs closed      14.0          1.984          0.214     0.752\n",
       "shrubs open        15.0          1.962          0.203     0.725\n",
       "trees closed        9.0          1.997          0.158     0.909"
      ]
     },
     "execution_count": 16,
     "metadata": {},
     "output_type": "execute_result"
    }
   ],
   "source": [
    "# Step 1: Create Taxon Abundance Table (Old Reserve Only)\n",
    "df_taxon_by_habitat_old_reserve = df_occ_old_reserve.pivot_table(\n",
    "    index='Taxon Label',\n",
    "    columns='Pre: Transect physical habitat',\n",
    "    values='ID',\n",
    "    aggfunc='count',\n",
    "    fill_value=0\n",
    ")\n",
    "\n",
    "# Step 2: Calculate Diversity Metrics\n",
    "import numpy as np\n",
    "import pandas as pd\n",
    "\n",
    "diversity_metrics = {}\n",
    "\n",
    "for habitat in df_taxon_by_habitat_old_reserve.columns:\n",
    "    counts = df_taxon_by_habitat_old_reserve[habitat]\n",
    "    total = counts.sum()\n",
    "    \n",
    "    # Richness (number of taxa with at least 1 occurrence)\n",
    "    richness = (counts > 0).sum()\n",
    "    \n",
    "    # Relative abundances (p_i)\n",
    "    proportions = counts[counts > 0] / total\n",
    "    \n",
    "    # Shannon Index\n",
    "    shannon = -np.sum(proportions * np.log(proportions))\n",
    "    \n",
    "    # Simpson Index\n",
    "    simpson = np.sum(proportions**2)\n",
    "    \n",
    "    # Evenness (Shannon / ln(Richness))\n",
    "    evenness = shannon / np.log(richness) if richness > 1 else 0\n",
    "    \n",
    "    diversity_metrics[habitat] = {\n",
    "        'Richness': richness,\n",
    "        'Shannon Index': round(shannon, 3),\n",
    "        'Simpson Index': round(simpson, 3),\n",
    "        'Evenness': round(evenness, 3)\n",
    "    }\n",
    "\n",
    "# Convert to DataFrame\n",
    "df_diversity = pd.DataFrame(diversity_metrics).T\n",
    "\n",
    "# Preview the Results\n",
    "df_diversity\n",
    "\n",
    "# Interpretation of Diversity Metrics\n",
    "# Metric\tWhat It Tells You\n",
    "# Richness\tNumber of different taxa observed (doesn’t consider abundance)\n",
    "# Shannon\tDiversity accounting for richness + evenness\n",
    "# Simpson\tLower = more diverse (probability 2 individuals are same taxon)\n",
    "# Evenness\tHow equally individuals are distributed across taxa"
   ]
  },
  {
   "cell_type": "code",
   "execution_count": 16,
   "id": "b0d92510-c4a9-4d13-8c79-cebf08f8f64e",
   "metadata": {},
   "outputs": [],
   "source": [
    "# Key Observations\n",
    "# Grass Closed\n",
    "# Highest richness (17 taxa)\n",
    "# Shannon: 2.06 → fairly high diversity\n",
    "# Evenness: 0.73 → moderately balanced\n",
    "\n",
    "# Trees Closed\n",
    "# Lowest richness (9 taxa), but Shannon is almost the highest (2.00)\n",
    "# Evenness: 0.91 → very evenly distributed community\n",
    "# Suggests few taxa, but well-balanced\n",
    "\n",
    "# Shrubs Closed/Open\n",
    "# Similar diversity profiles, slightly lower richness\n",
    "# Good evenness and moderately low Simpson Index"
   ]
  },
  {
   "cell_type": "code",
   "execution_count": 18,
   "id": "046d0ce7-b5bd-4882-83b4-3d8c369f5847",
   "metadata": {},
   "outputs": [
    {
     "data": {
      "text/html": [
       "<div>\n",
       "<style scoped>\n",
       "    .dataframe tbody tr th:only-of-type {\n",
       "        vertical-align: middle;\n",
       "    }\n",
       "\n",
       "    .dataframe tbody tr th {\n",
       "        vertical-align: top;\n",
       "    }\n",
       "\n",
       "    .dataframe thead th {\n",
       "        text-align: right;\n",
       "    }\n",
       "</style>\n",
       "<table border=\"1\" class=\"dataframe\">\n",
       "  <thead>\n",
       "    <tr style=\"text-align: right;\">\n",
       "      <th>Taxon Label</th>\n",
       "      <th></th>\n",
       "      <th>Aves (medium)</th>\n",
       "      <th>Aves (small)</th>\n",
       "      <th>Bovidae (large)</th>\n",
       "      <th>Bovidae (medium)</th>\n",
       "      <th>Bovidae (small)</th>\n",
       "      <th>Grant's gazelle</th>\n",
       "      <th>Mammalia indet</th>\n",
       "      <th>Rhinocerotidae</th>\n",
       "      <th>Thompson's gazelle</th>\n",
       "      <th>...</th>\n",
       "      <th>elephant</th>\n",
       "      <th>giraffe</th>\n",
       "      <th>hare</th>\n",
       "      <th>hartebeest</th>\n",
       "      <th>impala</th>\n",
       "      <th>spotted hyaena</th>\n",
       "      <th>ungulate</th>\n",
       "      <th>warthog</th>\n",
       "      <th>waterbuck</th>\n",
       "      <th>zebra</th>\n",
       "    </tr>\n",
       "    <tr>\n",
       "      <th>Pre: Transect physical habitat</th>\n",
       "      <th></th>\n",
       "      <th></th>\n",
       "      <th></th>\n",
       "      <th></th>\n",
       "      <th></th>\n",
       "      <th></th>\n",
       "      <th></th>\n",
       "      <th></th>\n",
       "      <th></th>\n",
       "      <th></th>\n",
       "      <th></th>\n",
       "      <th></th>\n",
       "      <th></th>\n",
       "      <th></th>\n",
       "      <th></th>\n",
       "      <th></th>\n",
       "      <th></th>\n",
       "      <th></th>\n",
       "      <th></th>\n",
       "      <th></th>\n",
       "      <th></th>\n",
       "    </tr>\n",
       "  </thead>\n",
       "  <tbody>\n",
       "    <tr>\n",
       "      <th>grass closed</th>\n",
       "      <td>6</td>\n",
       "      <td>1</td>\n",
       "      <td>0</td>\n",
       "      <td>11</td>\n",
       "      <td>16</td>\n",
       "      <td>15</td>\n",
       "      <td>4</td>\n",
       "      <td>67</td>\n",
       "      <td>0</td>\n",
       "      <td>11</td>\n",
       "      <td>...</td>\n",
       "      <td>0</td>\n",
       "      <td>11</td>\n",
       "      <td>0</td>\n",
       "      <td>2</td>\n",
       "      <td>3</td>\n",
       "      <td>0</td>\n",
       "      <td>0</td>\n",
       "      <td>18</td>\n",
       "      <td>1</td>\n",
       "      <td>73</td>\n",
       "    </tr>\n",
       "    <tr>\n",
       "      <th>shrubs closed</th>\n",
       "      <td>0</td>\n",
       "      <td>1</td>\n",
       "      <td>1</td>\n",
       "      <td>11</td>\n",
       "      <td>4</td>\n",
       "      <td>7</td>\n",
       "      <td>0</td>\n",
       "      <td>39</td>\n",
       "      <td>0</td>\n",
       "      <td>0</td>\n",
       "      <td>...</td>\n",
       "      <td>0</td>\n",
       "      <td>6</td>\n",
       "      <td>0</td>\n",
       "      <td>0</td>\n",
       "      <td>1</td>\n",
       "      <td>0</td>\n",
       "      <td>2</td>\n",
       "      <td>1</td>\n",
       "      <td>4</td>\n",
       "      <td>14</td>\n",
       "    </tr>\n",
       "    <tr>\n",
       "      <th>shrubs open</th>\n",
       "      <td>0</td>\n",
       "      <td>0</td>\n",
       "      <td>1</td>\n",
       "      <td>13</td>\n",
       "      <td>15</td>\n",
       "      <td>7</td>\n",
       "      <td>1</td>\n",
       "      <td>74</td>\n",
       "      <td>1</td>\n",
       "      <td>4</td>\n",
       "      <td>...</td>\n",
       "      <td>0</td>\n",
       "      <td>7</td>\n",
       "      <td>0</td>\n",
       "      <td>0</td>\n",
       "      <td>7</td>\n",
       "      <td>1</td>\n",
       "      <td>0</td>\n",
       "      <td>20</td>\n",
       "      <td>0</td>\n",
       "      <td>52</td>\n",
       "    </tr>\n",
       "    <tr>\n",
       "      <th>trees closed</th>\n",
       "      <td>0</td>\n",
       "      <td>0</td>\n",
       "      <td>0</td>\n",
       "      <td>0</td>\n",
       "      <td>2</td>\n",
       "      <td>2</td>\n",
       "      <td>0</td>\n",
       "      <td>7</td>\n",
       "      <td>0</td>\n",
       "      <td>0</td>\n",
       "      <td>...</td>\n",
       "      <td>2</td>\n",
       "      <td>0</td>\n",
       "      <td>1</td>\n",
       "      <td>0</td>\n",
       "      <td>4</td>\n",
       "      <td>0</td>\n",
       "      <td>0</td>\n",
       "      <td>1</td>\n",
       "      <td>3</td>\n",
       "      <td>6</td>\n",
       "    </tr>\n",
       "  </tbody>\n",
       "</table>\n",
       "<p>4 rows × 23 columns</p>\n",
       "</div>"
      ],
      "text/plain": [
       "Taxon Label                        Aves (medium)  Aves (small)  \\\n",
       "Pre: Transect physical habitat                                   \n",
       "grass closed                    6              1             0   \n",
       "shrubs closed                   0              1             1   \n",
       "shrubs open                     0              0             1   \n",
       "trees closed                    0              0             0   \n",
       "\n",
       "Taxon Label                     Bovidae (large)  Bovidae (medium)  \\\n",
       "Pre: Transect physical habitat                                      \n",
       "grass closed                                 11                16   \n",
       "shrubs closed                                11                 4   \n",
       "shrubs open                                  13                15   \n",
       "trees closed                                  0                 2   \n",
       "\n",
       "Taxon Label                     Bovidae (small)  Grant's gazelle  \\\n",
       "Pre: Transect physical habitat                                     \n",
       "grass closed                                 15                4   \n",
       "shrubs closed                                 7                0   \n",
       "shrubs open                                   7                1   \n",
       "trees closed                                  2                0   \n",
       "\n",
       "Taxon Label                     Mammalia indet  Rhinocerotidae  \\\n",
       "Pre: Transect physical habitat                                   \n",
       "grass closed                                67               0   \n",
       "shrubs closed                               39               0   \n",
       "shrubs open                                 74               1   \n",
       "trees closed                                 7               0   \n",
       "\n",
       "Taxon Label                     Thompson's gazelle  ...  elephant  giraffe  \\\n",
       "Pre: Transect physical habitat                      ...                      \n",
       "grass closed                                    11  ...         0       11   \n",
       "shrubs closed                                    0  ...         0        6   \n",
       "shrubs open                                      4  ...         0        7   \n",
       "trees closed                                     0  ...         2        0   \n",
       "\n",
       "Taxon Label                     hare  hartebeest  impala  spotted hyaena  \\\n",
       "Pre: Transect physical habitat                                             \n",
       "grass closed                       0           2       3               0   \n",
       "shrubs closed                      0           0       1               0   \n",
       "shrubs open                        0           0       7               1   \n",
       "trees closed                       1           0       4               0   \n",
       "\n",
       "Taxon Label                     ungulate  warthog  waterbuck  zebra  \n",
       "Pre: Transect physical habitat                                       \n",
       "grass closed                           0       18          1     73  \n",
       "shrubs closed                          2        1          4     14  \n",
       "shrubs open                            0       20          0     52  \n",
       "trees closed                           0        1          3      6  \n",
       "\n",
       "[4 rows x 23 columns]"
      ]
     },
     "execution_count": 18,
     "metadata": {},
     "output_type": "execute_result"
    }
   ],
   "source": [
    "# 3. Ordination (Community Composition)\n",
    "# Samples as rows, taxa as columns\n",
    "# Step 1: Transpose to Habitat x Taxa Matrix\n",
    "df_composition = df_taxon_by_habitat_old_reserve.T\n",
    "df_composition.head()\n"
   ]
  },
  {
   "cell_type": "code",
   "execution_count": 19,
   "id": "c2069875-9e65-40d0-b358-f3981753c766",
   "metadata": {},
   "outputs": [
    {
     "data": {
      "image/png": "[encoded data removed]",
      "text/plain": [
       "<Figure size 700x600 with 1 Axes>"
      ]
     },
     "metadata": {},
     "output_type": "display_data"
    }
   ],
   "source": [
    "# Step 2: Run NMDS with Bray-Curtis\n",
    "# Step 2.1: Bray-Curtis Distance\n",
    "from scipy.spatial.distance import pdist, squareform\n",
    "from sklearn.manifold import MDS\n",
    "import pandas as pd\n",
    "import matplotlib.pyplot as plt\n",
    "\n",
    "# Use habitat x taxa matrix, df_composition\n",
    "# Compute Bray-Curtis dissimilarity\n",
    "bray_curtis = pdist(df_composition.values, metric=\"braycurtis\")\n",
    "bc_matrix = squareform(bray_curtis)\n",
    "\n",
    "# Step 2.2: Run NMDS (non-metric MDS)\n",
    "nmds = MDS(\n",
    "    n_components=2,\n",
    "    dissimilarity=\"precomputed\",\n",
    "    metric=False,\n",
    "    random_state=42,\n",
    "    max_iter=1000,\n",
    "    eps=1e-9,\n",
    "    n_init=10\n",
    ")\n",
    "\n",
    "nmds_coords = nmds.fit_transform(bc_matrix)\n",
    "nmds_df = pd.DataFrame(nmds_coords, columns=[\"NMDS1\", \"NMDS2\"], index=df_composition.index)\n",
    "\n",
    "# Step 2.3: Plot It\n",
    "plt.figure(figsize=(7, 6))\n",
    "plt.scatter(nmds_df[\"NMDS1\"], nmds_df[\"NMDS2\"], s=100)\n",
    "\n",
    "for label, (x, y) in nmds_df.iterrows():\n",
    "    plt.text(x + 0.01, y, label, fontsize=12)\n",
    "\n",
    "plt.title(\"NMDS Ordination (Bray-Curtis) - Habitat Composition\")\n",
    "plt.xlabel(\"NMDS1\")\n",
    "plt.ylabel(\"NMDS2\")\n",
    "plt.grid(True)\n",
    "plt.tight_layout()\n",
    "plt.show()\n"
   ]
  },
  {
   "cell_type": "code",
   "execution_count": 21,
   "id": "6857614b-201b-4b78-bcec-b9f2a0b6120a",
   "metadata": {},
   "outputs": [
    {
     "data": {
      "text/html": [
       "<div>\n",
       "<style scoped>\n",
       "    .dataframe tbody tr th:only-of-type {\n",
       "        vertical-align: middle;\n",
       "    }\n",
       "\n",
       "    .dataframe tbody tr th {\n",
       "        vertical-align: top;\n",
       "    }\n",
       "\n",
       "    .dataframe thead th {\n",
       "        text-align: right;\n",
       "    }\n",
       "</style>\n",
       "<table border=\"1\" class=\"dataframe\">\n",
       "  <thead>\n",
       "    <tr style=\"text-align: right;\">\n",
       "      <th></th>\n",
       "      <th>NMDS1</th>\n",
       "      <th>NMDS2</th>\n",
       "    </tr>\n",
       "    <tr>\n",
       "      <th>Pre: Transect physical habitat</th>\n",
       "      <th></th>\n",
       "      <th></th>\n",
       "    </tr>\n",
       "  </thead>\n",
       "  <tbody>\n",
       "    <tr>\n",
       "      <th>grass closed</th>\n",
       "      <td>-0.585070</td>\n",
       "      <td>0.401048</td>\n",
       "    </tr>\n",
       "    <tr>\n",
       "      <th>shrubs closed</th>\n",
       "      <td>0.325107</td>\n",
       "      <td>0.375693</td>\n",
       "    </tr>\n",
       "    <tr>\n",
       "      <th>shrubs open</th>\n",
       "      <td>-0.311151</td>\n",
       "      <td>-0.275759</td>\n",
       "    </tr>\n",
       "    <tr>\n",
       "      <th>trees closed</th>\n",
       "      <td>0.571115</td>\n",
       "      <td>-0.500982</td>\n",
       "    </tr>\n",
       "  </tbody>\n",
       "</table>\n",
       "</div>"
      ],
      "text/plain": [
       "                                   NMDS1     NMDS2\n",
       "Pre: Transect physical habitat                    \n",
       "grass closed                   -0.585070  0.401048\n",
       "shrubs closed                   0.325107  0.375693\n",
       "shrubs open                    -0.311151 -0.275759\n",
       "trees closed                    0.571115 -0.500982"
      ]
     },
     "execution_count": 21,
     "metadata": {},
     "output_type": "execute_result"
    }
   ],
   "source": [
    "# NMDS is non-metric, so unlike PCA, it doesn't naturally produce loadings (i.e. variable contributions to axes), because:\n",
    "# NMDS doesn't use the original variable space — it uses distances between samples only.\n",
    "# However, you can still estimate which taxa are associated with NMDS axes by calculating correlations between species abundances and NMDS scores.\n",
    "# This is similar to what envfit does in R (vegan package).\n",
    "\n",
    "# Step-by-Step: Simulate NMDS \"Loadings\" via Correlation\n",
    "# 1. Start from the matrices\n",
    "# Habitat x Taxa matrix\n",
    "df_composition = df_taxon_by_habitat_old_reserve.T\n",
    "\n",
    "# NMDS coordinates (habitat rows)\n",
    "nmds_df  # contains columns \"NMDS1\", \"NMDS2\" and index = habitat names"
   ]
  },
  {
   "cell_type": "code",
   "execution_count": 22,
   "id": "086ec592-3cfa-4e86-863b-ebf533c89eba",
   "metadata": {},
   "outputs": [
    {
     "data": {
      "text/html": [
       "<div>\n",
       "<style scoped>\n",
       "    .dataframe tbody tr th:only-of-type {\n",
       "        vertical-align: middle;\n",
       "    }\n",
       "\n",
       "    .dataframe tbody tr th {\n",
       "        vertical-align: top;\n",
       "    }\n",
       "\n",
       "    .dataframe thead th {\n",
       "        text-align: right;\n",
       "    }\n",
       "</style>\n",
       "<table border=\"1\" class=\"dataframe\">\n",
       "  <thead>\n",
       "    <tr style=\"text-align: right;\">\n",
       "      <th></th>\n",
       "      <th>NMDS1</th>\n",
       "      <th>NMDS2</th>\n",
       "    </tr>\n",
       "  </thead>\n",
       "  <tbody>\n",
       "    <tr>\n",
       "      <th></th>\n",
       "      <td>-0.723888</td>\n",
       "      <td>0.583898</td>\n",
       "    </tr>\n",
       "    <tr>\n",
       "      <th>Aves (medium)</th>\n",
       "      <td>-0.278552</td>\n",
       "      <td>0.979371</td>\n",
       "    </tr>\n",
       "    <tr>\n",
       "      <th>Aves (small)</th>\n",
       "      <td>0.014954</td>\n",
       "      <td>0.126004</td>\n",
       "    </tr>\n",
       "    <tr>\n",
       "      <th>Bovidae (large)</th>\n",
       "      <td>-0.722858</td>\n",
       "      <td>0.610960</td>\n",
       "    </tr>\n",
       "    <tr>\n",
       "      <th>Bovidae (medium)</th>\n",
       "      <td>-0.985282</td>\n",
       "      <td>0.278321</td>\n",
       "    </tr>\n",
       "    <tr>\n",
       "      <th>Bovidae (small)</th>\n",
       "      <td>-0.866977</td>\n",
       "      <td>0.773434</td>\n",
       "    </tr>\n",
       "    <tr>\n",
       "      <th>Grant's gazelle</th>\n",
       "      <td>-0.866503</td>\n",
       "      <td>0.510866</td>\n",
       "    </tr>\n",
       "    <tr>\n",
       "      <th>Mammalia indet</th>\n",
       "      <td>-0.923520</td>\n",
       "      <td>0.420141</td>\n",
       "    </tr>\n",
       "    <tr>\n",
       "      <th>Rhinocerotidae</th>\n",
       "      <td>-0.384977</td>\n",
       "      <td>-0.401485</td>\n",
       "    </tr>\n",
       "    <tr>\n",
       "      <th>Thompson's gazelle</th>\n",
       "      <td>-0.915809</td>\n",
       "      <td>0.464227</td>\n",
       "    </tr>\n",
       "    <tr>\n",
       "      <th>buffalo</th>\n",
       "      <td>-0.478421</td>\n",
       "      <td>-0.103877</td>\n",
       "    </tr>\n",
       "    <tr>\n",
       "      <th>cow (domestic)</th>\n",
       "      <td>-0.723888</td>\n",
       "      <td>0.583898</td>\n",
       "    </tr>\n",
       "    <tr>\n",
       "      <th>eland</th>\n",
       "      <td>-0.186392</td>\n",
       "      <td>0.781618</td>\n",
       "    </tr>\n",
       "    <tr>\n",
       "      <th>elephant</th>\n",
       "      <td>0.706621</td>\n",
       "      <td>-0.729395</td>\n",
       "    </tr>\n",
       "    <tr>\n",
       "      <th>giraffe</th>\n",
       "      <td>-0.906735</td>\n",
       "      <td>0.758280</td>\n",
       "    </tr>\n",
       "    <tr>\n",
       "      <th>hare</th>\n",
       "      <td>0.706621</td>\n",
       "      <td>-0.729395</td>\n",
       "    </tr>\n",
       "    <tr>\n",
       "      <th>hartebeest</th>\n",
       "      <td>-0.723888</td>\n",
       "      <td>0.583898</td>\n",
       "    </tr>\n",
       "    <tr>\n",
       "      <th>impala</th>\n",
       "      <td>-0.327554</td>\n",
       "      <td>-0.685860</td>\n",
       "    </tr>\n",
       "    <tr>\n",
       "      <th>spotted hyaena</th>\n",
       "      <td>-0.384977</td>\n",
       "      <td>-0.401485</td>\n",
       "    </tr>\n",
       "    <tr>\n",
       "      <th>ungulate</th>\n",
       "      <td>0.402243</td>\n",
       "      <td>0.546982</td>\n",
       "    </tr>\n",
       "    <tr>\n",
       "      <th>warthog</th>\n",
       "      <td>-0.941099</td>\n",
       "      <td>0.110225</td>\n",
       "    </tr>\n",
       "    <tr>\n",
       "      <th>waterbuck</th>\n",
       "      <td>0.822939</td>\n",
       "      <td>0.159837</td>\n",
       "    </tr>\n",
       "    <tr>\n",
       "      <th>zebra</th>\n",
       "      <td>-0.994533</td>\n",
       "      <td>0.395163</td>\n",
       "    </tr>\n",
       "  </tbody>\n",
       "</table>\n",
       "</div>"
      ],
      "text/plain": [
       "                       NMDS1     NMDS2\n",
       "                   -0.723888  0.583898\n",
       "Aves (medium)      -0.278552  0.979371\n",
       "Aves (small)        0.014954  0.126004\n",
       "Bovidae (large)    -0.722858  0.610960\n",
       "Bovidae (medium)   -0.985282  0.278321\n",
       "Bovidae (small)    -0.866977  0.773434\n",
       "Grant's gazelle    -0.866503  0.510866\n",
       "Mammalia indet     -0.923520  0.420141\n",
       "Rhinocerotidae     -0.384977 -0.401485\n",
       "Thompson's gazelle -0.915809  0.464227\n",
       "buffalo            -0.478421 -0.103877\n",
       "cow (domestic)     -0.723888  0.583898\n",
       "eland              -0.186392  0.781618\n",
       "elephant            0.706621 -0.729395\n",
       "giraffe            -0.906735  0.758280\n",
       "hare                0.706621 -0.729395\n",
       "hartebeest         -0.723888  0.583898\n",
       "impala             -0.327554 -0.685860\n",
       "spotted hyaena     -0.384977 -0.401485\n",
       "ungulate            0.402243  0.546982\n",
       "warthog            -0.941099  0.110225\n",
       "waterbuck           0.822939  0.159837\n",
       "zebra              -0.994533  0.395163"
      ]
     },
     "execution_count": 22,
     "metadata": {},
     "output_type": "execute_result"
    }
   ],
   "source": [
    "# 2. Compute Pearson correlations between taxa and NMDS axes\n",
    "from scipy.stats import pearsonr\n",
    "import pandas as pd\n",
    "\n",
    "loadings = {}\n",
    "\n",
    "for taxon in df_composition.columns:\n",
    "    taxon_abund = df_composition[taxon]\n",
    "    r1, _ = pearsonr(taxon_abund, nmds_df[\"NMDS1\"])\n",
    "    r2, _ = pearsonr(taxon_abund, nmds_df[\"NMDS2\"])\n",
    "    loadings[taxon] = {\"NMDS1\": r1, \"NMDS2\": r2}\n",
    "\n",
    "df_loadings = pd.DataFrame(loadings).T\n",
    "\n",
    "# Result: df_loadings\n",
    "# Each row = taxon\n",
    "# Each column = correlation with NMDS axis\n",
    "df_loadings"
   ]
  },
  {
   "cell_type": "code",
   "execution_count": 23,
   "id": "07767044-2409-488c-a7fd-1bbf14d3f2ae",
   "metadata": {},
   "outputs": [
    {
     "data": {
      "text/html": [
       "<div>\n",
       "<style scoped>\n",
       "    .dataframe tbody tr th:only-of-type {\n",
       "        vertical-align: middle;\n",
       "    }\n",
       "\n",
       "    .dataframe tbody tr th {\n",
       "        vertical-align: top;\n",
       "    }\n",
       "\n",
       "    .dataframe thead th {\n",
       "        text-align: right;\n",
       "    }\n",
       "</style>\n",
       "<table border=\"1\" class=\"dataframe\">\n",
       "  <thead>\n",
       "    <tr style=\"text-align: right;\">\n",
       "      <th></th>\n",
       "      <th>NMDS1</th>\n",
       "      <th>NMDS2</th>\n",
       "    </tr>\n",
       "  </thead>\n",
       "  <tbody>\n",
       "    <tr>\n",
       "      <th>zebra</th>\n",
       "      <td>0.994533</td>\n",
       "      <td>0.395163</td>\n",
       "    </tr>\n",
       "    <tr>\n",
       "      <th>Bovidae (medium)</th>\n",
       "      <td>0.985282</td>\n",
       "      <td>0.278321</td>\n",
       "    </tr>\n",
       "    <tr>\n",
       "      <th>warthog</th>\n",
       "      <td>0.941099</td>\n",
       "      <td>0.110225</td>\n",
       "    </tr>\n",
       "    <tr>\n",
       "      <th>Mammalia indet</th>\n",
       "      <td>0.923520</td>\n",
       "      <td>0.420141</td>\n",
       "    </tr>\n",
       "    <tr>\n",
       "      <th>Thompson's gazelle</th>\n",
       "      <td>0.915809</td>\n",
       "      <td>0.464227</td>\n",
       "    </tr>\n",
       "    <tr>\n",
       "      <th>giraffe</th>\n",
       "      <td>0.906735</td>\n",
       "      <td>0.758280</td>\n",
       "    </tr>\n",
       "    <tr>\n",
       "      <th>Bovidae (small)</th>\n",
       "      <td>0.866977</td>\n",
       "      <td>0.773434</td>\n",
       "    </tr>\n",
       "    <tr>\n",
       "      <th>Grant's gazelle</th>\n",
       "      <td>0.866503</td>\n",
       "      <td>0.510866</td>\n",
       "    </tr>\n",
       "    <tr>\n",
       "      <th>waterbuck</th>\n",
       "      <td>0.822939</td>\n",
       "      <td>0.159837</td>\n",
       "    </tr>\n",
       "    <tr>\n",
       "      <th>hartebeest</th>\n",
       "      <td>0.723888</td>\n",
       "      <td>0.583898</td>\n",
       "    </tr>\n",
       "  </tbody>\n",
       "</table>\n",
       "</div>"
      ],
      "text/plain": [
       "                       NMDS1     NMDS2\n",
       "zebra               0.994533  0.395163\n",
       "Bovidae (medium)    0.985282  0.278321\n",
       "warthog             0.941099  0.110225\n",
       "Mammalia indet      0.923520  0.420141\n",
       "Thompson's gazelle  0.915809  0.464227\n",
       "giraffe             0.906735  0.758280\n",
       "Bovidae (small)     0.866977  0.773434\n",
       "Grant's gazelle     0.866503  0.510866\n",
       "waterbuck           0.822939  0.159837\n",
       "hartebeest          0.723888  0.583898"
      ]
     },
     "execution_count": 23,
     "metadata": {},
     "output_type": "execute_result"
    }
   ],
   "source": [
    "# Optional: Show Top Taxa per Axis\n",
    "df_loadings.abs().sort_values(\"NMDS1\", ascending=False).head(10)\n"
   ]
  },
  {
   "cell_type": "code",
   "execution_count": 24,
   "id": "c7a396a2-db4e-48f1-a2e9-592922947f33",
   "metadata": {},
   "outputs": [
    {
     "data": {
      "image/png": "[encoded data removed]",
      "text/plain": [
       "<Figure size 800x600 with 1 Axes>"
      ]
     },
     "metadata": {},
     "output_type": "display_data"
    }
   ],
   "source": [
    "# Step-by-Step: Taxa Vectors on NMDS Ordination\n",
    "# 1. Correlate Taxa with NMDS Axes\n",
    "\n",
    "from scipy.stats import pearsonr\n",
    "import pandas as pd\n",
    "\n",
    "loadings = {}\n",
    "\n",
    "for taxon in df_composition.columns:\n",
    "    taxon_abund = df_composition[taxon]\n",
    "    r1, _ = pearsonr(taxon_abund, nmds_df[\"NMDS1\"])\n",
    "    r2, _ = pearsonr(taxon_abund, nmds_df[\"NMDS2\"])\n",
    "    loadings[taxon] = {\"NMDS1\": r1, \"NMDS2\": r2}\n",
    "\n",
    "df_loadings = pd.DataFrame(loadings).T\n",
    "\n",
    "# 2. Clean + Filter (Optional)\n",
    "threshold = 0.7\n",
    "df_loadings_filtered = df_loadings[df_loadings.abs().max(axis=1) > threshold]\n",
    "\n",
    "# 3. Plot NMDS with Taxa Vectors\n",
    "import matplotlib.pyplot as plt\n",
    "import numpy as np\n",
    "\n",
    "plt.figure(figsize=(8, 6))\n",
    "\n",
    "# Plot habitat points\n",
    "plt.scatter(nmds_df[\"NMDS1\"], nmds_df[\"NMDS2\"], s=100, color='gray')\n",
    "for label, (x, y) in nmds_df.iterrows():\n",
    "    plt.text(x + 0.01, y, label, fontsize=12)\n",
    "\n",
    "# Plot taxa vectors with adjusted labels\n",
    "for taxon, row in df_loadings_filtered.iterrows():\n",
    "    x, y = row[\"NMDS1\"], row[\"NMDS2\"]\n",
    "    \n",
    "    # Arrow\n",
    "    plt.arrow(0, 0, x, y, color='tomato', alpha=0.7, head_width=0.02, length_includes_head=True)\n",
    "    \n",
    "    # Label offset: radial direction\n",
    "    angle = np.arctan2(y, x)\n",
    "    label_x = x + 0.05 * np.cos(angle)\n",
    "    label_y = y + 0.05 * np.sin(angle)\n",
    "    \n",
    "    plt.text(label_x, label_y, taxon, fontsize=9, color='darkred', ha='center', va='center')\n",
    "\n",
    "# Axes\n",
    "plt.axhline(0, color='lightgray', linestyle='--')\n",
    "plt.axvline(0, color='lightgray', linestyle='--')\n",
    "\n",
    "plt.title(\"NMDS Ordination with Taxa Vectors (Spaced Labels)\")\n",
    "plt.xlabel(\"NMDS1\")\n",
    "plt.ylabel(\"NMDS2\")\n",
    "plt.grid(True)\n",
    "plt.tight_layout()\n",
    "plt.show()\n",
    "\n",
    "# What You Now Have\n",
    "# Points = habitats on NMDS axes\n",
    "# Arrows = taxa correlated with the axes (like PCA biplots)\n",
    "# Length/direction = strength & association with ordination"
   ]
  },
  {
   "cell_type": "code",
   "execution_count": 28,
   "id": "7109b348-93b0-4f1f-8de8-896ddc861cfa",
   "metadata": {},
   "outputs": [
    {
     "data": {
      "application/vnd.plotly.v1+json": {
       "config": {
        "plotlyServerURL": "https://plot.ly"
       },
       "data": [
        {
         "hoverinfo": "text",
         "marker": {
          "color": "gray",
          "size": 10
         },
         "mode": "markers+text",
         "name": "Habitats",
         "text": [
          "grass closed",
          "shrubs closed",
          "shrubs open",
          "trees closed"
         ],
         "textposition": "top center",
         "type": "scatter",
         "x": {
          "bdata": "T9IIdeW44r+Nd1Pji87UP++4IK7l6dO/AHNvWpJG4j8=",
          "dtype": "f8"
         },
         "y": {
          "bdata": "OgvXSMeq2T+75+w/WgvYP1cPvdQIptG/0HEDWgwI4L8=",
          "dtype": "f8"
         }
        },
        {
         "hoverinfo": "text",
         "line": {
          "color": "tomato",
          "width": 2
         },
         "mode": "lines+text",
         "showlegend": false,
         "text": [
          null,
          ""
         ],
         "textfont": {
          "color": "darkred",
          "size": 10
         },
         "textposition": "top right",
         "type": "scatter",
         "x": [
          0,
          -0.7238877691909245
         ],
         "y": [
          0,
          0.5838979821188788
         ]
        },
        {
         "hoverinfo": "text",
         "line": {
          "color": "tomato",
          "width": 2
         },
         "mode": "lines+text",
         "showlegend": false,
         "text": [
          null,
          "Aves (medium)"
         ],
         "textfont": {
          "color": "darkred",
          "size": 10
         },
         "textposition": "top right",
         "type": "scatter",
         "x": [
          0,
          -0.27855219494988925
         ],
         "y": [
          0,
          0.9793708439077579
         ]
        },
        {
         "hoverinfo": "text",
         "line": {
          "color": "tomato",
          "width": 2
         },
         "mode": "lines+text",
         "showlegend": false,
         "text": [
          null,
          "Bovidae (large)"
         ],
         "textfont": {
          "color": "darkred",
          "size": 10
         },
         "textposition": "top right",
         "type": "scatter",
         "x": [
          0,
          -0.7228580214326552
         ],
         "y": [
          0,
          0.6109604963368945
         ]
        },
        {
         "hoverinfo": "text",
         "line": {
          "color": "tomato",
          "width": 2
         },
         "mode": "lines+text",
         "showlegend": false,
         "text": [
          null,
          "Bovidae (medium)"
         ],
         "textfont": {
          "color": "darkred",
          "size": 10
         },
         "textposition": "top right",
         "type": "scatter",
         "x": [
          0,
          -0.98528182096513
         ],
         "y": [
          0,
          0.27832090552388866
         ]
        },
        {
         "hoverinfo": "text",
         "line": {
          "color": "tomato",
          "width": 2
         },
         "mode": "lines+text",
         "showlegend": false,
         "text": [
          null,
          "Bovidae (small)"
         ],
         "textfont": {
          "color": "darkred",
          "size": 10
         },
         "textposition": "top right",
         "type": "scatter",
         "x": [
          0,
          -0.8669774185090736
         ],
         "y": [
          0,
          0.7734335764159046
         ]
        },
        {
         "hoverinfo": "text",
         "line": {
          "color": "tomato",
          "width": 2
         },
         "mode": "lines+text",
         "showlegend": false,
         "text": [
          null,
          "Grant's gazelle"
         ],
         "textfont": {
          "color": "darkred",
          "size": 10
         },
         "textposition": "top right",
         "type": "scatter",
         "x": [
          0,
          -0.8665030579267117
         ],
         "y": [
          0,
          0.5108657694940677
         ]
        },
        {
         "hoverinfo": "text",
         "line": {
          "color": "tomato",
          "width": 2
         },
         "mode": "lines+text",
         "showlegend": false,
         "text": [
          null,
          "Mammalia indet"
         ],
         "textfont": {
          "color": "darkred",
          "size": 10
         },
         "textposition": "top right",
         "type": "scatter",
         "x": [
          0,
          -0.923520064188637
         ],
         "y": [
          0,
          0.420141069224521
         ]
        },
        {
         "hoverinfo": "text",
         "line": {
          "color": "tomato",
          "width": 2
         },
         "mode": "lines+text",
         "showlegend": false,
         "text": [
          null,
          "Thompson's gazelle"
         ],
         "textfont": {
          "color": "darkred",
          "size": 10
         },
         "textposition": "top right",
         "type": "scatter",
         "x": [
          0,
          -0.9158093870432402
         ],
         "y": [
          0,
          0.4642268783121153
         ]
        },
        {
         "hoverinfo": "text",
         "line": {
          "color": "tomato",
          "width": 2
         },
         "mode": "lines+text",
         "showlegend": false,
         "text": [
          null,
          "cow (domestic)"
         ],
         "textfont": {
          "color": "darkred",
          "size": 10
         },
         "textposition": "top right",
         "type": "scatter",
         "x": [
          0,
          -0.7238877691909245
         ],
         "y": [
          0,
          0.5838979821188788
         ]
        },
        {
         "hoverinfo": "text",
         "line": {
          "color": "tomato",
          "width": 2
         },
         "mode": "lines+text",
         "showlegend": false,
         "text": [
          null,
          "eland"
         ],
         "textfont": {
          "color": "darkred",
          "size": 10
         },
         "textposition": "top right",
         "type": "scatter",
         "x": [
          0,
          -0.1863924060759045
         ],
         "y": [
          0,
          0.781617944681106
         ]
        },
        {
         "hoverinfo": "text",
         "line": {
          "color": "tomato",
          "width": 2
         },
         "mode": "lines+text",
         "showlegend": false,
         "text": [
          null,
          "elephant"
         ],
         "textfont": {
          "color": "darkred",
          "size": 10
         },
         "textposition": "top right",
         "type": "scatter",
         "x": [
          0,
          0.706620924259302
         ],
         "y": [
          0,
          -0.729394700233408
         ]
        },
        {
         "hoverinfo": "text",
         "line": {
          "color": "tomato",
          "width": 2
         },
         "mode": "lines+text",
         "showlegend": false,
         "text": [
          null,
          "giraffe"
         ],
         "textfont": {
          "color": "darkred",
          "size": 10
         },
         "textposition": "top right",
         "type": "scatter",
         "x": [
          0,
          -0.9067346142026099
         ],
         "y": [
          0,
          0.7582799076161374
         ]
        },
        {
         "hoverinfo": "text",
         "line": {
          "color": "tomato",
          "width": 2
         },
         "mode": "lines+text",
         "showlegend": false,
         "text": [
          null,
          "hare"
         ],
         "textfont": {
          "color": "darkred",
          "size": 10
         },
         "textposition": "top right",
         "type": "scatter",
         "x": [
          0,
          0.706620924259302
         ],
         "y": [
          0,
          -0.729394700233408
         ]
        },
        {
         "hoverinfo": "text",
         "line": {
          "color": "tomato",
          "width": 2
         },
         "mode": "lines+text",
         "showlegend": false,
         "text": [
          null,
          "hartebeest"
         ],
         "textfont": {
          "color": "darkred",
          "size": 10
         },
         "textposition": "top right",
         "type": "scatter",
         "x": [
          0,
          -0.7238877691909245
         ],
         "y": [
          0,
          0.5838979821188788
         ]
        },
        {
         "hoverinfo": "text",
         "line": {
          "color": "tomato",
          "width": 2
         },
         "mode": "lines+text",
         "showlegend": false,
         "text": [
          null,
          "warthog"
         ],
         "textfont": {
          "color": "darkred",
          "size": 10
         },
         "textposition": "top right",
         "type": "scatter",
         "x": [
          0,
          -0.9410986437282216
         ],
         "y": [
          0,
          0.11022502708550827
         ]
        },
        {
         "hoverinfo": "text",
         "line": {
          "color": "tomato",
          "width": 2
         },
         "mode": "lines+text",
         "showlegend": false,
         "text": [
          null,
          "waterbuck"
         ],
         "textfont": {
          "color": "darkred",
          "size": 10
         },
         "textposition": "top right",
         "type": "scatter",
         "x": [
          0,
          0.8229390668525369
         ],
         "y": [
          0,
          0.15983697618768083
         ]
        },
        {
         "hoverinfo": "text",
         "line": {
          "color": "tomato",
          "width": 2
         },
         "mode": "lines+text",
         "showlegend": false,
         "text": [
          null,
          "zebra"
         ],
         "textfont": {
          "color": "darkred",
          "size": 10
         },
         "textposition": "top right",
         "type": "scatter",
         "x": [
          0,
          -0.9945330477174517
         ],
         "y": [
          0,
          0.39516256576971154
         ]
        }
       ],
       "layout": {
        "height": 700,
        "showlegend": false,
        "template": {
         "data": {
          "bar": [
           {
            "error_x": {
             "color": "#2a3f5f"
            },
            "error_y": {
             "color": "#2a3f5f"
            },
            "marker": {
             "line": {
              "color": "#E5ECF6",
              "width": 0.5
             },
             "pattern": {
              "fillmode": "overlay",
              "size": 10,
              "solidity": 0.2
             }
            },
            "type": "bar"
           }
          ],
          "barpolar": [
           {
            "marker": {
             "line": {
              "color": "#E5ECF6",
              "width": 0.5
             },
             "pattern": {
              "fillmode": "overlay",
              "size": 10,
              "solidity": 0.2
             }
            },
            "type": "barpolar"
           }
          ],
          "carpet": [
           {
            "aaxis": {
             "endlinecolor": "#2a3f5f",
             "gridcolor": "white",
             "linecolor": "white",
             "minorgridcolor": "white",
             "startlinecolor": "#2a3f5f"
            },
            "baxis": {
             "endlinecolor": "#2a3f5f",
             "gridcolor": "white",
             "linecolor": "white",
             "minorgridcolor": "white",
             "startlinecolor": "#2a3f5f"
            },
            "type": "carpet"
           }
          ],
          "choropleth": [
           {
            "colorbar": {
             "outlinewidth": 0,
             "ticks": ""
            },
            "type": "choropleth"
           }
          ],
          "contour": [
           {
            "colorbar": {
             "outlinewidth": 0,
             "ticks": ""
            },
            "colorscale": [
             [
              0,
              "#0d0887"
             ],
             [
              0.1111111111111111,
              "#46039f"
             ],
             [
              0.2222222222222222,
              "#7201a8"
             ],
             [
              0.3333333333333333,
              "#9c179e"
             ],
             [
              0.4444444444444444,
              "#bd3786"
             ],
             [
              0.5555555555555556,
              "#d8576b"
             ],
             [
              0.6666666666666666,
              "#ed7953"
             ],
             [
              0.7777777777777778,
              "#fb9f3a"
             ],
             [
              0.8888888888888888,
              "#fdca26"
             ],
             [
              1,
              "#f0f921"
             ]
            ],
            "type": "contour"
           }
          ],
          "contourcarpet": [
           {
            "colorbar": {
             "outlinewidth": 0,
             "ticks": ""
            },
            "type": "contourcarpet"
           }
          ],
          "heatmap": [
           {
            "colorbar": {
             "outlinewidth": 0,
             "ticks": ""
            },
            "colorscale": [
             [
              0,
              "#0d0887"
             ],
             [
              0.1111111111111111,
              "#46039f"
             ],
             [
              0.2222222222222222,
              "#7201a8"
             ],
             [
              0.3333333333333333,
              "#9c179e"
             ],
             [
              0.4444444444444444,
              "#bd3786"
             ],
             [
              0.5555555555555556,
              "#d8576b"
             ],
             [
              0.6666666666666666,
              "#ed7953"
             ],
             [
              0.7777777777777778,
              "#fb9f3a"
             ],
             [
              0.8888888888888888,
              "#fdca26"
             ],
             [
              1,
              "#f0f921"
             ]
            ],
            "type": "heatmap"
           }
          ],
          "histogram": [
           {
            "marker": {
             "pattern": {
              "fillmode": "overlay",
              "size": 10,
              "solidity": 0.2
             }
            },
            "type": "histogram"
           }
          ],
          "histogram2d": [
           {
            "colorbar": {
             "outlinewidth": 0,
             "ticks": ""
            },
            "colorscale": [
             [
              0,
              "#0d0887"
             ],
             [
              0.1111111111111111,
              "#46039f"
             ],
             [
              0.2222222222222222,
              "#7201a8"
             ],
             [
              0.3333333333333333,
              "#9c179e"
             ],
             [
              0.4444444444444444,
              "#bd3786"
             ],
             [
              0.5555555555555556,
              "#d8576b"
             ],
             [
              0.6666666666666666,
              "#ed7953"
             ],
             [
              0.7777777777777778,
              "#fb9f3a"
             ],
             [
              0.8888888888888888,
              "#fdca26"
             ],
             [
              1,
              "#f0f921"
             ]
            ],
            "type": "histogram2d"
           }
          ],
          "histogram2dcontour": [
           {
            "colorbar": {
             "outlinewidth": 0,
             "ticks": ""
            },
            "colorscale": [
             [
              0,
              "#0d0887"
             ],
             [
              0.1111111111111111,
              "#46039f"
             ],
             [
              0.2222222222222222,
              "#7201a8"
             ],
             [
              0.3333333333333333,
              "#9c179e"
             ],
             [
              0.4444444444444444,
              "#bd3786"
             ],
             [
              0.5555555555555556,
              "#d8576b"
             ],
             [
              0.6666666666666666,
              "#ed7953"
             ],
             [
              0.7777777777777778,
              "#fb9f3a"
             ],
             [
              0.8888888888888888,
              "#fdca26"
             ],
             [
              1,
              "#f0f921"
             ]
            ],
            "type": "histogram2dcontour"
           }
          ],
          "mesh3d": [
           {
            "colorbar": {
             "outlinewidth": 0,
             "ticks": ""
            },
            "type": "mesh3d"
           }
          ],
          "parcoords": [
           {
            "line": {
             "colorbar": {
              "outlinewidth": 0,
              "ticks": ""
             }
            },
            "type": "parcoords"
           }
          ],
          "pie": [
           {
            "automargin": true,
            "type": "pie"
           }
          ],
          "scatter": [
           {
            "fillpattern": {
             "fillmode": "overlay",
             "size": 10,
             "solidity": 0.2
            },
            "type": "scatter"
           }
          ],
          "scatter3d": [
           {
            "line": {
             "colorbar": {
              "outlinewidth": 0,
              "ticks": ""
             }
            },
            "marker": {
             "colorbar": {
              "outlinewidth": 0,
              "ticks": ""
             }
            },
            "type": "scatter3d"
           }
          ],
          "scattercarpet": [
           {
            "marker": {
             "colorbar": {
              "outlinewidth": 0,
              "ticks": ""
             }
            },
            "type": "scattercarpet"
           }
          ],
          "scattergeo": [
           {
            "marker": {
             "colorbar": {
              "outlinewidth": 0,
              "ticks": ""
             }
            },
            "type": "scattergeo"
           }
          ],
          "scattergl": [
           {
            "marker": {
             "colorbar": {
              "outlinewidth": 0,
              "ticks": ""
             }
            },
            "type": "scattergl"
           }
          ],
          "scattermap": [
           {
            "marker": {
             "colorbar": {
              "outlinewidth": 0,
              "ticks": ""
             }
            },
            "type": "scattermap"
           }
          ],
          "scattermapbox": [
           {
            "marker": {
             "colorbar": {
              "outlinewidth": 0,
              "ticks": ""
             }
            },
            "type": "scattermapbox"
           }
          ],
          "scatterpolar": [
           {
            "marker": {
             "colorbar": {
              "outlinewidth": 0,
              "ticks": ""
             }
            },
            "type": "scatterpolar"
           }
          ],
          "scatterpolargl": [
           {
            "marker": {
             "colorbar": {
              "outlinewidth": 0,
              "ticks": ""
             }
            },
            "type": "scatterpolargl"
           }
          ],
          "scatterternary": [
           {
            "marker": {
             "colorbar": {
              "outlinewidth": 0,
              "ticks": ""
             }
            },
            "type": "scatterternary"
           }
          ],
          "surface": [
           {
            "colorbar": {
             "outlinewidth": 0,
             "ticks": ""
            },
            "colorscale": [
             [
              0,
              "#0d0887"
             ],
             [
              0.1111111111111111,
              "#46039f"
             ],
             [
              0.2222222222222222,
              "#7201a8"
             ],
             [
              0.3333333333333333,
              "#9c179e"
             ],
             [
              0.4444444444444444,
              "#bd3786"
             ],
             [
              0.5555555555555556,
              "#d8576b"
             ],
             [
              0.6666666666666666,
              "#ed7953"
             ],
             [
              0.7777777777777778,
              "#fb9f3a"
             ],
             [
              0.8888888888888888,
              "#fdca26"
             ],
             [
              1,
              "#f0f921"
             ]
            ],
            "type": "surface"
           }
          ],
          "table": [
           {
            "cells": {
             "fill": {
              "color": "#EBF0F8"
             },
             "line": {
              "color": "white"
             }
            },
            "header": {
             "fill": {
              "color": "#C8D4E3"
             },
             "line": {
              "color": "white"
             }
            },
            "type": "table"
           }
          ]
         },
         "layout": {
          "annotationdefaults": {
           "arrowcolor": "#2a3f5f",
           "arrowhead": 0,
           "arrowwidth": 1
          },
          "autotypenumbers": "strict",
          "coloraxis": {
           "colorbar": {
            "outlinewidth": 0,
            "ticks": ""
           }
          },
          "colorscale": {
           "diverging": [
            [
             0,
             "#8e0152"
            ],
            [
             0.1,
             "#c51b7d"
            ],
            [
             0.2,
             "#de77ae"
            ],
            [
             0.3,
             "#f1b6da"
            ],
            [
             0.4,
             "#fde0ef"
            ],
            [
             0.5,
             "#f7f7f7"
            ],
            [
             0.6,
             "#e6f5d0"
            ],
            [
             0.7,
             "#b8e186"
            ],
            [
             0.8,
             "#7fbc41"
            ],
            [
             0.9,
             "#4d9221"
            ],
            [
             1,
             "#276419"
            ]
           ],
           "sequential": [
            [
             0,
             "#0d0887"
            ],
            [
             0.1111111111111111,
             "#46039f"
            ],
            [
             0.2222222222222222,
             "#7201a8"
            ],
            [
             0.3333333333333333,
             "#9c179e"
            ],
            [
             0.4444444444444444,
             "#bd3786"
            ],
            [
             0.5555555555555556,
             "#d8576b"
            ],
            [
             0.6666666666666666,
             "#ed7953"
            ],
            [
             0.7777777777777778,
             "#fb9f3a"
            ],
            [
             0.8888888888888888,
             "#fdca26"
            ],
            [
             1,
             "#f0f921"
            ]
           ],
           "sequentialminus": [
            [
             0,
             "#0d0887"
            ],
            [
             0.1111111111111111,
             "#46039f"
            ],
            [
             0.2222222222222222,
             "#7201a8"
            ],
            [
             0.3333333333333333,
             "#9c179e"
            ],
            [
             0.4444444444444444,
             "#bd3786"
            ],
            [
             0.5555555555555556,
             "#d8576b"
            ],
            [
             0.6666666666666666,
             "#ed7953"
            ],
            [
             0.7777777777777778,
             "#fb9f3a"
            ],
            [
             0.8888888888888888,
             "#fdca26"
            ],
            [
             1,
             "#f0f921"
            ]
           ]
          },
          "colorway": [
           "#636efa",
           "#EF553B",
           "#00cc96",
           "#ab63fa",
           "#FFA15A",
           "#19d3f3",
           "#FF6692",
           "#B6E880",
           "#FF97FF",
           "#FECB52"
          ],
          "font": {
           "color": "#2a3f5f"
          },
          "geo": {
           "bgcolor": "white",
           "lakecolor": "white",
           "landcolor": "#E5ECF6",
           "showlakes": true,
           "showland": true,
           "subunitcolor": "white"
          },
          "hoverlabel": {
           "align": "left"
          },
          "hovermode": "closest",
          "mapbox": {
           "style": "light"
          },
          "paper_bgcolor": "white",
          "plot_bgcolor": "#E5ECF6",
          "polar": {
           "angularaxis": {
            "gridcolor": "white",
            "linecolor": "white",
            "ticks": ""
           },
           "bgcolor": "#E5ECF6",
           "radialaxis": {
            "gridcolor": "white",
            "linecolor": "white",
            "ticks": ""
           }
          },
          "scene": {
           "xaxis": {
            "backgroundcolor": "#E5ECF6",
            "gridcolor": "white",
            "gridwidth": 2,
            "linecolor": "white",
            "showbackground": true,
            "ticks": "",
            "zerolinecolor": "white"
           },
           "yaxis": {
            "backgroundcolor": "#E5ECF6",
            "gridcolor": "white",
            "gridwidth": 2,
            "linecolor": "white",
            "showbackground": true,
            "ticks": "",
            "zerolinecolor": "white"
           },
           "zaxis": {
            "backgroundcolor": "#E5ECF6",
            "gridcolor": "white",
            "gridwidth": 2,
            "linecolor": "white",
            "showbackground": true,
            "ticks": "",
            "zerolinecolor": "white"
           }
          },
          "shapedefaults": {
           "line": {
            "color": "#2a3f5f"
           }
          },
          "ternary": {
           "aaxis": {
            "gridcolor": "white",
            "linecolor": "white",
            "ticks": ""
           },
           "baxis": {
            "gridcolor": "white",
            "linecolor": "white",
            "ticks": ""
           },
           "bgcolor": "#E5ECF6",
           "caxis": {
            "gridcolor": "white",
            "linecolor": "white",
            "ticks": ""
           }
          },
          "title": {
           "x": 0.05
          },
          "xaxis": {
           "automargin": true,
           "gridcolor": "white",
           "linecolor": "white",
           "ticks": "",
           "title": {
            "standoff": 15
           },
           "zerolinecolor": "white",
           "zerolinewidth": 2
          },
          "yaxis": {
           "automargin": true,
           "gridcolor": "white",
           "linecolor": "white",
           "ticks": "",
           "title": {
            "standoff": 15
           },
           "zerolinecolor": "white",
           "zerolinewidth": 2
          }
         }
        },
        "title": {
         "text": "Interactive NMDS Ordination with Taxa Vectors"
        },
        "width": 800,
        "xaxis": {
         "title": {
          "text": "NMDS1"
         }
        },
        "yaxis": {
         "title": {
          "text": "NMDS2"
         }
        }
       }
      }
     },
     "metadata": {},
     "output_type": "display_data"
    }
   ],
   "source": [
    "# Step-by-Step: Interactive NMDS Biplot with Plotly\n",
    "# Create Interactive Plot\n",
    "import plotly.graph_objects as go\n",
    "\n",
    "# NMDS habitat points\n",
    "points = go.Scatter(\n",
    "    x=nmds_df[\"NMDS1\"],\n",
    "    y=nmds_df[\"NMDS2\"],\n",
    "    mode='markers+text',\n",
    "    name='Habitats',\n",
    "    text=nmds_df.index,\n",
    "    textposition='top center',\n",
    "    marker=dict(size=10, color='gray'),\n",
    "    hoverinfo='text'\n",
    ")\n",
    "\n",
    "# Taxa vectors as arrows\n",
    "vectors = []\n",
    "for taxon, row in df_loadings_filtered.iterrows():\n",
    "    x, y = row[\"NMDS1\"], row[\"NMDS2\"]\n",
    "    \n",
    "    # Arrow line\n",
    "    vectors.append(\n",
    "        go.Scatter(\n",
    "            x=[0, x],\n",
    "            y=[0, y],\n",
    "            mode='lines+text',\n",
    "            line=dict(color='tomato', width=2),\n",
    "            text=[None, taxon],\n",
    "            textposition='top right',\n",
    "            textfont=dict(size=10, color='darkred'),\n",
    "            hoverinfo='text',\n",
    "            showlegend=False\n",
    "        )\n",
    "    )\n",
    "\n",
    "# Combine all traces\n",
    "fig = go.Figure(data=[points] + vectors)\n",
    "\n",
    "# Layout settings\n",
    "fig.update_layout(\n",
    "    title=\"Interactive NMDS Ordination with Taxa Vectors\",\n",
    "    xaxis_title=\"NMDS1\",\n",
    "    yaxis_title=\"NMDS2\",\n",
    "    width=800,\n",
    "    height=700,\n",
    "    showlegend=False\n",
    ")\n",
    "\n",
    "fig.show()\n"
   ]
  },
  {
   "cell_type": "code",
   "execution_count": 31,
   "id": "78138edf-6190-472d-a9b7-372594ccb3c0",
   "metadata": {},
   "outputs": [],
   "source": [
    "# But both PCA and CA require:\n",
    "# Samples as rows, taxa as columns\n",
    "# So let’s first transpose:\n",
    "df_matrix = df_taxon_by_habitat_old_reserve.T  # shape: habitats × taxa"
   ]
  },
  {
   "cell_type": "code",
   "execution_count": 32,
   "id": "94c014fc-b597-4fb4-91e7-7303f30a9ff3",
   "metadata": {},
   "outputs": [],
   "source": [
    "# Part 1: PCA\n",
    "# We’ll standardize and run PCA on the habitat × taxa matrix.\n",
    "# Step 1: Run PCA\n",
    "from sklearn.decomposition import PCA\n",
    "from sklearn.preprocessing import StandardScaler\n",
    "import pandas as pd\n",
    "\n",
    "# Standardize the data\n",
    "scaler = StandardScaler()\n",
    "df_scaled = scaler.fit_transform(df_matrix)\n",
    "\n",
    "# Run PCA\n",
    "pca = PCA(n_components=2)\n",
    "pca_coords = pca.fit_transform(df_scaled)\n",
    "\n",
    "# Pack into DataFrame\n",
    "df_pca = pd.DataFrame(pca_coords, columns=['PC1', 'PC2'], index=df_matrix.index)"
   ]
  },
  {
   "cell_type": "code",
   "execution_count": 33,
   "id": "d71e548d-9e37-445d-9aa6-3b5067cab999",
   "metadata": {},
   "outputs": [
    {
     "data": {
      "image/png": "[encoded data removed]",
      "text/plain": [
       "<Figure size 700x600 with 1 Axes>"
      ]
     },
     "metadata": {},
     "output_type": "display_data"
    }
   ],
   "source": [
    "# Step 2: Plot PCA\n",
    "import matplotlib.pyplot as plt\n",
    "\n",
    "plt.figure(figsize=(7,6))\n",
    "plt.scatter(df_pca[\"PC1\"], df_pca[\"PC2\"], s=100, color=\"steelblue\")\n",
    "\n",
    "for label, (x, y) in df_pca.iterrows():\n",
    "    plt.text(x + 0.1, y, label, fontsize=12)\n",
    "\n",
    "plt.axhline(0, color='lightgray', linestyle='--')\n",
    "plt.axvline(0, color='lightgray', linestyle='--')\n",
    "plt.title(\"PCA of Habitat Species Composition\")\n",
    "plt.xlabel(\"PC1\")\n",
    "plt.ylabel(\"PC2\")\n",
    "plt.tight_layout()\n",
    "plt.show()\n"
   ]
  },
  {
   "cell_type": "code",
   "execution_count": 36,
   "id": "baaa7ca5-5524-4e29-826f-151e260d5076",
   "metadata": {},
   "outputs": [],
   "source": [
    "# Part 2: Correspondence Analysis (CA)\n",
    "# CA is a better fit for count data, and it doesn’t require standardization.\n",
    "\n",
    "# Step 1: Run CA\n",
    "import prince\n",
    "\n",
    "# Initialize and fit CA\n",
    "ca = prince.CA(n_components=2, random_state=42)\n",
    "ca = ca.fit(df_matrix)\n",
    "\n",
    "# Get CA coordinates\n",
    "df_ca_habitats = ca.row_coordinates(df_matrix)     # habitats (samples)\n",
    "df_ca_taxa = ca.column_coordinates(df_matrix)      # taxa (features)\n"
   ]
  },
  {
   "cell_type": "code",
   "execution_count": 37,
   "id": "58e56d76-ab88-4007-afbe-aedf1c1a048f",
   "metadata": {},
   "outputs": [
    {
     "data": {
      "image/png": "[encoded data removed]",
      "text/plain": [
       "<Figure size 800x600 with 1 Axes>"
      ]
     },
     "metadata": {},
     "output_type": "display_data"
    }
   ],
   "source": [
    "# Step 2: Plot CA Biplot\n",
    "import matplotlib.pyplot as plt\n",
    "\n",
    "plt.figure(figsize=(8, 6))\n",
    "\n",
    "# Plot habitats\n",
    "plt.scatter(df_ca_habitats[0], df_ca_habitats[1], s=100, color='forestgreen', label='Habitats')\n",
    "for label, (x, y) in df_ca_habitats.iterrows():\n",
    "    plt.text(x + 0.01, y, label, fontsize=12, color='darkgreen')\n",
    "\n",
    "# Plot taxa\n",
    "plt.scatter(df_ca_taxa[0], df_ca_taxa[1], s=30, color='tomato', label='Taxa')\n",
    "for label, (x, y) in df_ca_taxa.iterrows():\n",
    "    plt.text(x + 0.01, y, label, fontsize=8, color='firebrick')\n",
    "\n",
    "# Axes and title\n",
    "plt.axhline(0, color='lightgray', linestyle='--')\n",
    "plt.axvline(0, color='lightgray', linestyle='--')\n",
    "plt.xlabel(\"CA Dimension 1\")\n",
    "plt.ylabel(\"CA Dimension 2\")\n",
    "plt.title(\"Correspondence Analysis (CA) Biplot: Habitats × Taxa\")\n",
    "plt.legend()\n",
    "plt.tight_layout()\n",
    "plt.show()\n",
    "\n",
    "# What This Shows\n",
    "# Habitats are positioned based on taxonomic composition\n",
    "# Taxa are positioned based on their association with habitats\n",
    "# Closeness between a habitat and a taxon suggests higher frequency or strong association"
   ]
  },
  {
   "cell_type": "code",
   "execution_count": 29,
   "id": "28e47ed8-9c50-4614-a784-0ca37b4b3fc3",
   "metadata": {},
   "outputs": [],
   "source": [
    "# Main Step 4: Dissimilarity & Clustering\n",
    "# We'll build:\n",
    "# A dissimilarity matrix (Bray-Curtis or Jaccard)\n",
    "# A clustering dendrogram to visualize community similarity\n",
    "# Optional: Heatmaps, cluster overlays, cophenetic correlation"
   ]
  },
  {
   "cell_type": "code",
   "execution_count": 38,
   "id": "83e83139-3841-4462-b503-5cc18d7cc41b",
   "metadata": {},
   "outputs": [],
   "source": [
    "# 1. Data to Use\n",
    "# You can use the habitat × taxon matrix we built earlier:\n",
    "df_matrix = df_taxon_by_habitat_old_reserve.T  # shape: habitats × taxa\n",
    "\n",
    "# Each row = one habitat\n",
    "# Each column = species (counts)"
   ]
  },
  {
   "cell_type": "code",
   "execution_count": 39,
   "id": "be58f2b0-fbd2-4868-b718-441f182a0df5",
   "metadata": {},
   "outputs": [],
   "source": [
    "# Step 1: Compute Bray-Curtis Dissimilarity Matrix\n",
    "from scipy.spatial.distance import pdist, squareform\n",
    "\n",
    "# Bray-Curtis dissimilarity\n",
    "bray_dist = pdist(df_matrix.values, metric='braycurtis')\n",
    "bray_square = squareform(bray_dist)\n",
    "\n",
    "# Wrap into DataFrame\n",
    "import pandas as pd\n",
    "df_bray = pd.DataFrame(bray_square, index=df_matrix.index, columns=df_matrix.index)\n"
   ]
  },
  {
   "cell_type": "code",
   "execution_count": 40,
   "id": "5efea3c1-b198-49ba-a111-1fb8d7ad3afe",
   "metadata": {},
   "outputs": [
    {
     "data": {
      "image/png": "[encoded data removed]",
      "text/plain": [
       "<Figure size 800x500 with 1 Axes>"
      ]
     },
     "metadata": {},
     "output_type": "display_data"
    }
   ],
   "source": [
    "# Step 2: Hierarchical Clustering & Dendrogram\n",
    "from scipy.cluster.hierarchy import linkage, dendrogram\n",
    "\n",
    "# Perform clustering\n",
    "linkage_matrix = linkage(bray_dist, method='average')  # 'average' = UPGMA\n",
    "\n",
    "# Plot dendrogram\n",
    "import matplotlib.pyplot as plt\n",
    "\n",
    "plt.figure(figsize=(8, 5))\n",
    "dendrogram(linkage_matrix, labels=df_matrix.index, color_threshold=0.3)\n",
    "plt.title(\"Hierarchical Clustering (Bray-Curtis)\")\n",
    "plt.ylabel(\"Dissimilarity\")\n",
    "plt.tight_layout()\n",
    "plt.show()\n",
    "\n",
    "# Interpretation\n",
    "# Dendrogram branches closer together = more similar habitats"
   ]
  },
  {
   "cell_type": "code",
   "execution_count": 43,
   "id": "346ce776-1946-4fa1-85d7-92ee93dcfe81",
   "metadata": {},
   "outputs": [
    {
     "data": {
      "image/png": "[encoded data removed]",
      "text/plain": [
       "<Figure size 700x600 with 2 Axes>"
      ]
     },
     "metadata": {},
     "output_type": "display_data"
    }
   ],
   "source": [
    "# Step 3 (Optional): Heatmap of Dissimilarity\n",
    "import seaborn as sns\n",
    "\n",
    "plt.figure(figsize=(7, 6))\n",
    "sns.heatmap(df_bray, cmap=\"Reds\", annot=True, fmt=\".2f\")\n",
    "plt.title(\"Bray-Curtis Dissimilarity Between Habitats\")\n",
    "plt.tight_layout()\n",
    "plt.show()\n",
    "\n",
    "# Interpretation\n",
    "# Bray-Curtis values:\n",
    "# 0.0 = identical\n",
    "# 1.0 = completely different"
   ]
  },
  {
   "cell_type": "code",
   "execution_count": 34,
   "id": "81ff19d8-c181-4138-8533-422240cf82d2",
   "metadata": {},
   "outputs": [],
   "source": [
    "# Main step 5. Indicator Species Analysis\n",
    "# What Is Indicator Species Analysis?\n",
    "# Indicator species analysis identifies which taxa are strongly associated with particular habitats (or any grouping). A taxon is considered a good \"indicator\" if it's:\n",
    "# Common (high abundance) in a group\n",
    "# Faithful (mostly found only in that group)\n",
    "\n",
    "# Step-by-Step Plan\n",
    "# Since indicspecies (in R) is the go-to package, we'll use a Python-compatible version based on:\n",
    "# Grouped presence/absence or count data\n",
    "# Calculate Indicator Value (IndVal) = specificity × fidelity\n",
    "# Use permutation testing for significance\n",
    "# We’ll use:\n",
    "# df_matrix → habitats × taxa (counts)\n",
    "# Habitat labels for grouping"
   ]
  },
  {
   "cell_type": "code",
   "execution_count": 44,
   "id": "4d14e0ab-646e-46ec-b1c5-cdaff5121c40",
   "metadata": {},
   "outputs": [],
   "source": [
    "# Step 1: Prepare Data\n",
    "# We’ll convert count data to presence/absence for this example:\n",
    "df_pa = df_matrix.copy()\n",
    "df_pa[df_pa > 0] = 1  # convert to binary (presence/absence)"
   ]
  },
  {
   "cell_type": "code",
   "execution_count": 45,
   "id": "2452fa36-32df-4154-9084-bfaeb99a90cb",
   "metadata": {},
   "outputs": [],
   "source": [
    "# Step 2: Prepare Group Labels\n",
    "habitats = df_pa.index.to_list()"
   ]
  },
  {
   "cell_type": "code",
   "execution_count": 46,
   "id": "24cb0273-d092-409c-9ec0-cc44d4eca428",
   "metadata": {},
   "outputs": [],
   "source": [
    "# Step 3: Define Indicator Value Function\n",
    "import numpy as np\n",
    "\n",
    "def indval(df, groups):\n",
    "    results = []\n",
    "\n",
    "    group_names = sorted(set(groups))\n",
    "\n",
    "    for species in df.columns:\n",
    "        species_data = df[species]\n",
    "        \n",
    "        indval_scores = {}\n",
    "        for group in group_names:\n",
    "            group_mask = [g == group for g in groups]\n",
    "            in_group = species_data[group_mask]\n",
    "            out_group = species_data[~np.array(group_mask)]\n",
    "\n",
    "            # Specificity (A)\n",
    "            A = in_group.sum() / species_data.sum() if species_data.sum() > 0 else 0\n",
    "\n",
    "            # Fidelity (B)\n",
    "            B = (in_group > 0).sum() / sum(group_mask)\n",
    "\n",
    "            # IndVal\n",
    "            indval = A * B\n",
    "            indval_scores[group] = indval\n",
    "\n",
    "        best_group = max(indval_scores, key=indval_scores.get)\n",
    "        best_score = indval_scores[best_group]\n",
    "\n",
    "        results.append({\n",
    "            'Species': species,\n",
    "            'Best Group': best_group,\n",
    "            'IndVal': round(best_score, 3),\n",
    "        })\n",
    "\n",
    "    return pd.DataFrame(results)\n"
   ]
  },
  {
   "cell_type": "code",
   "execution_count": 47,
   "id": "fd46b6d9-dfd6-4358-b7d2-6930537ab673",
   "metadata": {},
   "outputs": [
    {
     "data": {
      "text/html": [
       "<div>\n",
       "<style scoped>\n",
       "    .dataframe tbody tr th:only-of-type {\n",
       "        vertical-align: middle;\n",
       "    }\n",
       "\n",
       "    .dataframe tbody tr th {\n",
       "        vertical-align: top;\n",
       "    }\n",
       "\n",
       "    .dataframe thead th {\n",
       "        text-align: right;\n",
       "    }\n",
       "</style>\n",
       "<table border=\"1\" class=\"dataframe\">\n",
       "  <thead>\n",
       "    <tr style=\"text-align: right;\">\n",
       "      <th></th>\n",
       "      <th>Species</th>\n",
       "      <th>Best Group</th>\n",
       "      <th>IndVal</th>\n",
       "    </tr>\n",
       "  </thead>\n",
       "  <tbody>\n",
       "    <tr>\n",
       "      <th>0</th>\n",
       "      <td></td>\n",
       "      <td>grass closed</td>\n",
       "      <td>1.0</td>\n",
       "    </tr>\n",
       "    <tr>\n",
       "      <th>18</th>\n",
       "      <td>spotted hyaena</td>\n",
       "      <td>shrubs open</td>\n",
       "      <td>1.0</td>\n",
       "    </tr>\n",
       "    <tr>\n",
       "      <th>19</th>\n",
       "      <td>ungulate</td>\n",
       "      <td>shrubs closed</td>\n",
       "      <td>1.0</td>\n",
       "    </tr>\n",
       "    <tr>\n",
       "      <th>15</th>\n",
       "      <td>hare</td>\n",
       "      <td>trees closed</td>\n",
       "      <td>1.0</td>\n",
       "    </tr>\n",
       "    <tr>\n",
       "      <th>13</th>\n",
       "      <td>elephant</td>\n",
       "      <td>trees closed</td>\n",
       "      <td>1.0</td>\n",
       "    </tr>\n",
       "    <tr>\n",
       "      <th>11</th>\n",
       "      <td>cow (domestic)</td>\n",
       "      <td>grass closed</td>\n",
       "      <td>1.0</td>\n",
       "    </tr>\n",
       "    <tr>\n",
       "      <th>8</th>\n",
       "      <td>Rhinocerotidae</td>\n",
       "      <td>shrubs open</td>\n",
       "      <td>1.0</td>\n",
       "    </tr>\n",
       "    <tr>\n",
       "      <th>16</th>\n",
       "      <td>hartebeest</td>\n",
       "      <td>grass closed</td>\n",
       "      <td>1.0</td>\n",
       "    </tr>\n",
       "    <tr>\n",
       "      <th>1</th>\n",
       "      <td>Aves (medium)</td>\n",
       "      <td>grass closed</td>\n",
       "      <td>0.5</td>\n",
       "    </tr>\n",
       "    <tr>\n",
       "      <th>2</th>\n",
       "      <td>Aves (small)</td>\n",
       "      <td>shrubs closed</td>\n",
       "      <td>0.5</td>\n",
       "    </tr>\n",
       "  </tbody>\n",
       "</table>\n",
       "</div>"
      ],
      "text/plain": [
       "           Species     Best Group  IndVal\n",
       "0                    grass closed     1.0\n",
       "18  spotted hyaena    shrubs open     1.0\n",
       "19        ungulate  shrubs closed     1.0\n",
       "15            hare   trees closed     1.0\n",
       "13        elephant   trees closed     1.0\n",
       "11  cow (domestic)   grass closed     1.0\n",
       "8   Rhinocerotidae    shrubs open     1.0\n",
       "16      hartebeest   grass closed     1.0\n",
       "1    Aves (medium)   grass closed     0.5\n",
       "2     Aves (small)  shrubs closed     0.5"
      ]
     },
     "execution_count": 47,
     "metadata": {},
     "output_type": "execute_result"
    }
   ],
   "source": [
    "# Step 4: Run Indicator Value Analysis\n",
    "df_indicators = indval(df_pa, habitats)\n",
    "\n",
    "# Sort by highest IndVal\n",
    "df_indicators = df_indicators.sort_values(by=\"IndVal\", ascending=False)\n",
    "df_indicators.head(10)\n"
   ]
  },
  {
   "cell_type": "code",
   "execution_count": 39,
   "id": "3077d2e9-f7e8-4d8b-b03e-9c224ace7b10",
   "metadata": {},
   "outputs": [],
   "source": [
    "# Step-by-Step: Full Indicator Species Analysis\n",
    "# We’ll use:\n",
    "# df_matrix → habitats × taxa (from earlier)\n",
    "# Presence/absence or count (we’ll use presence/absence here)\n",
    "# 999 permutations for p-values"
   ]
  },
  {
   "cell_type": "code",
   "execution_count": 48,
   "id": "52487e84-e2d3-4f5d-8a7a-173a0c586a1b",
   "metadata": {},
   "outputs": [],
   "source": [
    "# Step 1: Prepare Data\n",
    "# Presence/absence matrix: 1 = present, 0 = absent\n",
    "df_pa = df_matrix.copy()\n",
    "df_pa[df_pa > 0] = 1\n",
    "\n",
    "# Group labels = habitat names (assumes index of df_pa is habitat)\n",
    "groups = df_pa.index.to_list()\n"
   ]
  },
  {
   "cell_type": "code",
   "execution_count": 58,
   "id": "4a0053c6-1dfb-4508-b753-dc13eb65fd03",
   "metadata": {},
   "outputs": [],
   "source": [
    "# Step 2: Define IndVal + Permutation Test\n",
    "import numpy as np\n",
    "import pandas as pd\n",
    "# from tqdm.notebook import tqdm\n",
    "from tqdm import tqdm\n",
    "\n",
    "def compute_indval(df, groups):\n",
    "    group_names = sorted(set(groups))\n",
    "    result_rows = []\n",
    "\n",
    "    for species in df.columns:\n",
    "        species_data = df[species]\n",
    "        best_group = None\n",
    "        best_score = 0\n",
    "\n",
    "        for group in group_names:\n",
    "            mask = np.array([g == group for g in groups])\n",
    "            in_group = species_data[mask]\n",
    "            out_group = species_data[~mask]\n",
    "\n",
    "            A = in_group.sum() / species_data.sum() if species_data.sum() > 0 else 0\n",
    "            B = (in_group > 0).sum() / mask.sum()\n",
    "            score = A * B\n",
    "\n",
    "            if score > best_score:\n",
    "                best_score = score\n",
    "                best_group = group\n",
    "\n",
    "        result_rows.append({\n",
    "            'Species': species,\n",
    "            'Best Group': best_group,\n",
    "            'IndVal': best_score\n",
    "        })\n",
    "\n",
    "    return pd.DataFrame(result_rows)\n",
    "\n",
    "def permute_p_values(df, groups, observed, n_perm=999):\n",
    "    p_values = []\n",
    "\n",
    "    for _, row in tqdm(observed.iterrows(), total=len(observed)):\n",
    "        species = row['Species']\n",
    "        obs_val = row['IndVal']\n",
    "\n",
    "        null_vals = []\n",
    "        for _ in range(n_perm):\n",
    "            shuffled_groups = np.random.permutation(groups)\n",
    "            perm_result = compute_indval(df[[species]], shuffled_groups)\n",
    "            null_val = perm_result.iloc[0]['IndVal']\n",
    "            null_vals.append(null_val)\n",
    "\n",
    "        # p = proportion of null values >= observed\n",
    "        p = (np.sum(np.array(null_vals) >= obs_val) + 1) / (n_perm + 1)\n",
    "        p_values.append(p)\n",
    "\n",
    "    observed['p-value'] = p_values\n",
    "    return observed"
   ]
  },
  {
   "cell_type": "code",
   "execution_count": 59,
   "id": "a48d25fb-870d-436c-b785-f548eace8aad",
   "metadata": {},
   "outputs": [
    {
     "name": "stderr",
     "output_type": "stream",
     "text": [
      "100%|██████████| 23/23 [00:37<00:00,  1.62s/it]\n"
     ]
    }
   ],
   "source": [
    "# Step 3: Run Analysis\n",
    "df_indicators = compute_indval(df_pa, groups)\n",
    "df_indicators = permute_p_values(df_pa, groups, df_indicators)\n"
   ]
  },
  {
   "cell_type": "code",
   "execution_count": 60,
   "id": "d1c17bd1-f41c-4627-a96c-bddb3a68021c",
   "metadata": {},
   "outputs": [
    {
     "data": {
      "text/html": [
       "<div>\n",
       "<style scoped>\n",
       "    .dataframe tbody tr th:only-of-type {\n",
       "        vertical-align: middle;\n",
       "    }\n",
       "\n",
       "    .dataframe tbody tr th {\n",
       "        vertical-align: top;\n",
       "    }\n",
       "\n",
       "    .dataframe thead th {\n",
       "        text-align: right;\n",
       "    }\n",
       "</style>\n",
       "<table border=\"1\" class=\"dataframe\">\n",
       "  <thead>\n",
       "    <tr style=\"text-align: right;\">\n",
       "      <th></th>\n",
       "      <th>Species</th>\n",
       "      <th>Best Group</th>\n",
       "      <th>IndVal</th>\n",
       "      <th>p-value</th>\n",
       "    </tr>\n",
       "  </thead>\n",
       "  <tbody>\n",
       "    <tr>\n",
       "      <th>0</th>\n",
       "      <td></td>\n",
       "      <td>grass closed</td>\n",
       "      <td>1.000000</td>\n",
       "      <td>1.0</td>\n",
       "    </tr>\n",
       "    <tr>\n",
       "      <th>1</th>\n",
       "      <td>Aves (medium)</td>\n",
       "      <td>grass closed</td>\n",
       "      <td>0.500000</td>\n",
       "      <td>1.0</td>\n",
       "    </tr>\n",
       "    <tr>\n",
       "      <th>2</th>\n",
       "      <td>Aves (small)</td>\n",
       "      <td>shrubs closed</td>\n",
       "      <td>0.500000</td>\n",
       "      <td>1.0</td>\n",
       "    </tr>\n",
       "    <tr>\n",
       "      <th>3</th>\n",
       "      <td>Bovidae (large)</td>\n",
       "      <td>grass closed</td>\n",
       "      <td>0.333333</td>\n",
       "      <td>1.0</td>\n",
       "    </tr>\n",
       "    <tr>\n",
       "      <th>4</th>\n",
       "      <td>Bovidae (medium)</td>\n",
       "      <td>grass closed</td>\n",
       "      <td>0.250000</td>\n",
       "      <td>1.0</td>\n",
       "    </tr>\n",
       "    <tr>\n",
       "      <th>5</th>\n",
       "      <td>Bovidae (small)</td>\n",
       "      <td>grass closed</td>\n",
       "      <td>0.250000</td>\n",
       "      <td>1.0</td>\n",
       "    </tr>\n",
       "    <tr>\n",
       "      <th>6</th>\n",
       "      <td>Grant's gazelle</td>\n",
       "      <td>grass closed</td>\n",
       "      <td>0.500000</td>\n",
       "      <td>1.0</td>\n",
       "    </tr>\n",
       "    <tr>\n",
       "      <th>7</th>\n",
       "      <td>Mammalia indet</td>\n",
       "      <td>grass closed</td>\n",
       "      <td>0.250000</td>\n",
       "      <td>1.0</td>\n",
       "    </tr>\n",
       "    <tr>\n",
       "      <th>8</th>\n",
       "      <td>Rhinocerotidae</td>\n",
       "      <td>shrubs open</td>\n",
       "      <td>1.000000</td>\n",
       "      <td>1.0</td>\n",
       "    </tr>\n",
       "    <tr>\n",
       "      <th>9</th>\n",
       "      <td>Thompson's gazelle</td>\n",
       "      <td>grass closed</td>\n",
       "      <td>0.500000</td>\n",
       "      <td>1.0</td>\n",
       "    </tr>\n",
       "    <tr>\n",
       "      <th>10</th>\n",
       "      <td>buffalo</td>\n",
       "      <td>grass closed</td>\n",
       "      <td>0.333333</td>\n",
       "      <td>1.0</td>\n",
       "    </tr>\n",
       "    <tr>\n",
       "      <th>11</th>\n",
       "      <td>cow (domestic)</td>\n",
       "      <td>grass closed</td>\n",
       "      <td>1.000000</td>\n",
       "      <td>1.0</td>\n",
       "    </tr>\n",
       "    <tr>\n",
       "      <th>12</th>\n",
       "      <td>eland</td>\n",
       "      <td>grass closed</td>\n",
       "      <td>0.333333</td>\n",
       "      <td>1.0</td>\n",
       "    </tr>\n",
       "    <tr>\n",
       "      <th>13</th>\n",
       "      <td>elephant</td>\n",
       "      <td>trees closed</td>\n",
       "      <td>1.000000</td>\n",
       "      <td>1.0</td>\n",
       "    </tr>\n",
       "    <tr>\n",
       "      <th>14</th>\n",
       "      <td>giraffe</td>\n",
       "      <td>grass closed</td>\n",
       "      <td>0.333333</td>\n",
       "      <td>1.0</td>\n",
       "    </tr>\n",
       "    <tr>\n",
       "      <th>15</th>\n",
       "      <td>hare</td>\n",
       "      <td>trees closed</td>\n",
       "      <td>1.000000</td>\n",
       "      <td>1.0</td>\n",
       "    </tr>\n",
       "    <tr>\n",
       "      <th>16</th>\n",
       "      <td>hartebeest</td>\n",
       "      <td>grass closed</td>\n",
       "      <td>1.000000</td>\n",
       "      <td>1.0</td>\n",
       "    </tr>\n",
       "    <tr>\n",
       "      <th>17</th>\n",
       "      <td>impala</td>\n",
       "      <td>grass closed</td>\n",
       "      <td>0.250000</td>\n",
       "      <td>1.0</td>\n",
       "    </tr>\n",
       "    <tr>\n",
       "      <th>18</th>\n",
       "      <td>spotted hyaena</td>\n",
       "      <td>shrubs open</td>\n",
       "      <td>1.000000</td>\n",
       "      <td>1.0</td>\n",
       "    </tr>\n",
       "    <tr>\n",
       "      <th>19</th>\n",
       "      <td>ungulate</td>\n",
       "      <td>shrubs closed</td>\n",
       "      <td>1.000000</td>\n",
       "      <td>1.0</td>\n",
       "    </tr>\n",
       "    <tr>\n",
       "      <th>20</th>\n",
       "      <td>warthog</td>\n",
       "      <td>grass closed</td>\n",
       "      <td>0.250000</td>\n",
       "      <td>1.0</td>\n",
       "    </tr>\n",
       "    <tr>\n",
       "      <th>21</th>\n",
       "      <td>waterbuck</td>\n",
       "      <td>grass closed</td>\n",
       "      <td>0.333333</td>\n",
       "      <td>1.0</td>\n",
       "    </tr>\n",
       "    <tr>\n",
       "      <th>22</th>\n",
       "      <td>zebra</td>\n",
       "      <td>grass closed</td>\n",
       "      <td>0.250000</td>\n",
       "      <td>1.0</td>\n",
       "    </tr>\n",
       "  </tbody>\n",
       "</table>\n",
       "</div>"
      ],
      "text/plain": [
       "               Species     Best Group    IndVal  p-value\n",
       "0                        grass closed  1.000000      1.0\n",
       "1        Aves (medium)   grass closed  0.500000      1.0\n",
       "2         Aves (small)  shrubs closed  0.500000      1.0\n",
       "3      Bovidae (large)   grass closed  0.333333      1.0\n",
       "4     Bovidae (medium)   grass closed  0.250000      1.0\n",
       "5      Bovidae (small)   grass closed  0.250000      1.0\n",
       "6      Grant's gazelle   grass closed  0.500000      1.0\n",
       "7       Mammalia indet   grass closed  0.250000      1.0\n",
       "8       Rhinocerotidae    shrubs open  1.000000      1.0\n",
       "9   Thompson's gazelle   grass closed  0.500000      1.0\n",
       "10             buffalo   grass closed  0.333333      1.0\n",
       "11      cow (domestic)   grass closed  1.000000      1.0\n",
       "12               eland   grass closed  0.333333      1.0\n",
       "13            elephant   trees closed  1.000000      1.0\n",
       "14             giraffe   grass closed  0.333333      1.0\n",
       "15                hare   trees closed  1.000000      1.0\n",
       "16          hartebeest   grass closed  1.000000      1.0\n",
       "17              impala   grass closed  0.250000      1.0\n",
       "18      spotted hyaena    shrubs open  1.000000      1.0\n",
       "19            ungulate  shrubs closed  1.000000      1.0\n",
       "20             warthog   grass closed  0.250000      1.0\n",
       "21           waterbuck   grass closed  0.333333      1.0\n",
       "22               zebra   grass closed  0.250000      1.0"
      ]
     },
     "execution_count": 60,
     "metadata": {},
     "output_type": "execute_result"
    }
   ],
   "source": [
    "df_indicators"
   ]
  },
  {
   "cell_type": "code",
   "execution_count": 61,
   "id": "f6d304f0-a6fb-4d70-b720-a4cad4aefd68",
   "metadata": {},
   "outputs": [
    {
     "data": {
      "text/html": [
       "<div>\n",
       "<style scoped>\n",
       "    .dataframe tbody tr th:only-of-type {\n",
       "        vertical-align: middle;\n",
       "    }\n",
       "\n",
       "    .dataframe tbody tr th {\n",
       "        vertical-align: top;\n",
       "    }\n",
       "\n",
       "    .dataframe thead th {\n",
       "        text-align: right;\n",
       "    }\n",
       "</style>\n",
       "<table border=\"1\" class=\"dataframe\">\n",
       "  <thead>\n",
       "    <tr style=\"text-align: right;\">\n",
       "      <th></th>\n",
       "      <th>Species</th>\n",
       "      <th>Best Group</th>\n",
       "      <th>IndVal</th>\n",
       "      <th>p-value</th>\n",
       "    </tr>\n",
       "  </thead>\n",
       "  <tbody>\n",
       "  </tbody>\n",
       "</table>\n",
       "</div>"
      ],
      "text/plain": [
       "Empty DataFrame\n",
       "Columns: [Species, Best Group, IndVal, p-value]\n",
       "Index: []"
      ]
     },
     "execution_count": 61,
     "metadata": {},
     "output_type": "execute_result"
    }
   ],
   "source": [
    "# Step 4: Filter Significant Indicators\n",
    "df_indicators_sig = df_indicators[df_indicators['p-value'] <= 0.05]\n",
    "df_indicators_sig = df_indicators_sig.sort_values('IndVal', ascending=False)\n",
    "df_indicators_sig.head(10)"
   ]
  },
  {
   "cell_type": "code",
   "execution_count": 62,
   "id": "60b6cd62-97b4-4b03-954b-6558a81f41f6",
   "metadata": {},
   "outputs": [
    {
     "name": "stderr",
     "output_type": "stream",
     "text": [
      "/tmp/ipykernel_266/3743845541.py:18: UserWarning:\n",
      "\n",
      "No artists with labels found to put in legend.  Note that artists whose label start with an underscore are ignored when legend() is called with no argument.\n",
      "\n"
     ]
    },
    {
     "data": {
      "image/png": "[encoded data removed]",
      "text/plain": [
       "<Figure size 1000x600 with 1 Axes>"
      ]
     },
     "metadata": {},
     "output_type": "display_data"
    }
   ],
   "source": [
    "# Step 5: Bar Plot of Top Indicators\n",
    "import seaborn as sns\n",
    "import matplotlib.pyplot as plt\n",
    "\n",
    "top_n = 10\n",
    "plt.figure(figsize=(10, 6))\n",
    "sns.barplot(\n",
    "    data=df_indicators_sig.head(top_n),\n",
    "    y=\"Species\",\n",
    "    x=\"IndVal\",\n",
    "    hue=\"Best Group\",\n",
    "    dodge=False\n",
    ")\n",
    "plt.title(f\"Top {top_n} Indicator Species by IndVal\")\n",
    "plt.xlabel(\"Indicator Value\")\n",
    "plt.ylabel(\"Species\")\n",
    "plt.xlim(0, 1)\n",
    "plt.legend(title=\"Habitat\")\n",
    "plt.tight_layout()\n",
    "plt.show()\n"
   ]
  },
  {
   "cell_type": "code",
   "execution_count": null,
   "id": "9601a5f3-340c-47a5-83ce-ec07d84a1bbe",
   "metadata": {},
   "outputs": [],
   "source": []
  }
 ],
 "metadata": {
  "kernelspec": {
   "display_name": "Python 3 (ipykernel)",
   "language": "python",
   "name": "python3"
  },
  "language_info": {
   "codemirror_mode": {
    "name": "ipython",
    "version": 3
   },
   "file_extension": ".py",
   "mimetype": "text/x-python",
   "name": "python",
   "nbconvert_exporter": "python",
   "pygments_lexer": "ipython3",
   "version": "3.11.6"
  }
 },
 "nbformat": 4,
 "nbformat_minor": 5
}
